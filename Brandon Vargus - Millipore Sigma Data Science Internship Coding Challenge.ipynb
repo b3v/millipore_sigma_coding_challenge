{
 "cells": [
  {
   "cell_type": "markdown",
   "id": "01447ee6",
   "metadata": {},
   "source": [
    "# Analysis of COVID-19 Hospital Data & Air Quality Index #"
   ]
  },
  {
   "cell_type": "markdown",
   "id": "3b0a460b",
   "metadata": {},
   "source": [
    "**by Brandon Vargus**"
   ]
  },
  {
   "cell_type": "markdown",
   "id": "7053d1e5",
   "metadata": {},
   "source": [
    "In March 2020, lockdowns and safety regulations surged to fight against the spread of COVID-19, a then novel, airborne respiratory disease that had put the world on notice.\n",
    "\n",
    "With people confined in the walls of their homes more than ever, less people on the road, and less people at work, how much was air quality affected, if at all?"
   ]
  },
  {
   "cell_type": "markdown",
   "id": "e4a02ff5",
   "metadata": {},
   "source": [
    "**There are three mains questions to analyze:**\n",
    "\n",
    "1. Did the lockdown result in a noticable improvement in air quality? Most notably in what regions?\n",
    "\n",
    "2. Is there a correlation between Air Quality Index (AQI) and COVID-19 hospitalization rate?\n",
    "\n",
    "3. What confounding variables should we control for?\n",
    "\n",
    "4. How would you present the results visually? How do you label your axes?\n",
    "\n",
    "5. How did you treat missing data?"
   ]
  },
  {
   "cell_type": "markdown",
   "id": "8755efbb",
   "metadata": {},
   "source": [
    "**Answers:**\n",
    "\n",
    "**1.** The lockdown did see noticeable improvement in air quality during the time of the lockdowns, particularly in the Western states (**Section III.ii**). There did not seem to be a statistically significant (p=0.055 > 0.05) long-term decrease in AQI, however, going into 2021 (**Section III.i**).\n",
    "\n",
    "**2.** There does not seem to be a statistically significant difference (2020: p = 0.673 > 0.05; 2021: 0.831 > 0.05) between the null hypothesis r = 0 and the data, so we can't say there is a correlation between hospitalization rates for COVID-19 and Mean AQI per state for a given year (**Section III.iii**).\n",
    "\n",
    "   Interestingly enough, there were statistically significant differences between the null hypothesis r = 0 and the data of total number of hospitalizations vs. Mean AQI for a given year. Worse air quality seems to be strongly, positively correlated with more hospitalizations (**Section III.iv**).\n",
    "\n",
    "\n",
    "**3.** How big each state is/how densely populated each state could be some confounding variables that we would have to consider. Additionally, the season could affect different states, e.g. more wildfires in California during the summer can cause smoke to enter air, worsening the AQI.\n",
    "\n",
    "**4.** I decided to visualize the results using scatter plots w/simple linear regression, bar plots, histograms, and boxplots. Scatter plots were great for using linear regression (**Section III.iii - Section III.iv**). I used seaborn, scipy, and matplotlib to present my results visually. I labeled my axes by the variable I thought could be the explanation for another, e.g. x = AQI and y = Hospitalizations. For barplots I simply used the variable I want to visualize.\n",
    "\n",
    "**5.** I treated missing data by getting rid of columns where > 90% of the data was NaN, getting rid of rows that missed crucial information that would be important for analysis (**Section I.ii**). Finally, I changed all the data values encoded as \"Missing\" or \"NaN\" to \"Unknown\", which I felt made the non-entered values more uniform (**Section I.iii**). I then got rid of some info that was also > 90% \"Unknown\" and kept some entries/columns that could still be useful despite missing data (**Section I.iv**)."
   ]
  },
  {
   "cell_type": "markdown",
   "id": "723aae39",
   "metadata": {},
   "source": [
    "## I: Data Cleaning ##"
   ]
  },
  {
   "cell_type": "markdown",
   "id": "583c4f23",
   "metadata": {},
   "source": [
    "**Section I.i: Taking a look at the data:**"
   ]
  },
  {
   "cell_type": "code",
   "execution_count": 1,
   "id": "9ab2d5d0",
   "metadata": {},
   "outputs": [],
   "source": [
    "# import our python libraries\n",
    "import numpy as np\n",
    "import pandas as pd\n",
    "import seaborn as sns\n",
    "import matplotlib.pyplot as plt"
   ]
  },
  {
   "cell_type": "code",
   "execution_count": 2,
   "id": "ff47f054",
   "metadata": {},
   "outputs": [
    {
     "name": "stderr",
     "output_type": "stream",
     "text": [
      "/var/folders/xq/fj3st__56r54gz9tdvb7d2k40000gn/T/ipykernel_49275/177610922.py:5: DtypeWarning: Columns (3) have mixed types. Specify dtype option on import or set low_memory=False.\n",
      "  covid_cases_df = pd.read_csv(\"cases.csv\")\n"
     ]
    }
   ],
   "source": [
    "# Now here we load in our data\n",
    "aqi_2019_df = pd.read_csv(\"daily_aqi_by_county_2019.csv\")\n",
    "aqi_2020_df = pd.read_csv(\"daily_aqi_by_county_2020.csv\")\n",
    "aqi_2021_df = pd.read_csv(\"daily_aqi_by_county_2021.csv\")\n",
    "covid_cases_df = pd.read_csv(\"cases.csv\")"
   ]
  },
  {
   "cell_type": "code",
   "execution_count": 3,
   "id": "76167c81",
   "metadata": {},
   "outputs": [],
   "source": [
    "aqi_2019_df = pd.read_csv(\"daily_aqi_by_county_2019.csv\")\n",
    "aqi_2020_df = pd.read_csv(\"daily_aqi_by_county_2020.csv\")\n",
    "aqi_2021_df = pd.read_csv(\"daily_aqi_by_county_2021.csv\")"
   ]
  },
  {
   "cell_type": "code",
   "execution_count": 4,
   "id": "75719fa8",
   "metadata": {},
   "outputs": [
    {
     "data": {
      "text/html": [
       "<div>\n",
       "<style scoped>\n",
       "    .dataframe tbody tr th:only-of-type {\n",
       "        vertical-align: middle;\n",
       "    }\n",
       "\n",
       "    .dataframe tbody tr th {\n",
       "        vertical-align: top;\n",
       "    }\n",
       "\n",
       "    .dataframe thead th {\n",
       "        text-align: right;\n",
       "    }\n",
       "</style>\n",
       "<table border=\"1\" class=\"dataframe\">\n",
       "  <thead>\n",
       "    <tr style=\"text-align: right;\">\n",
       "      <th></th>\n",
       "      <th>State Name</th>\n",
       "      <th>county Name</th>\n",
       "      <th>State Code</th>\n",
       "      <th>County Code</th>\n",
       "      <th>Date</th>\n",
       "      <th>AQI</th>\n",
       "      <th>Category</th>\n",
       "      <th>Defining Parameter</th>\n",
       "      <th>Defining Site</th>\n",
       "      <th>Number of Sites Reporting</th>\n",
       "    </tr>\n",
       "  </thead>\n",
       "  <tbody>\n",
       "    <tr>\n",
       "      <th>0</th>\n",
       "      <td>Alabama</td>\n",
       "      <td>Baldwin</td>\n",
       "      <td>1</td>\n",
       "      <td>3</td>\n",
       "      <td>2021-01-01</td>\n",
       "      <td>27</td>\n",
       "      <td>Good</td>\n",
       "      <td>PM2.5</td>\n",
       "      <td>01-003-0010</td>\n",
       "      <td>1</td>\n",
       "    </tr>\n",
       "    <tr>\n",
       "      <th>1</th>\n",
       "      <td>Alabama</td>\n",
       "      <td>Baldwin</td>\n",
       "      <td>1</td>\n",
       "      <td>3</td>\n",
       "      <td>2021-01-04</td>\n",
       "      <td>47</td>\n",
       "      <td>Good</td>\n",
       "      <td>PM2.5</td>\n",
       "      <td>01-003-0010</td>\n",
       "      <td>1</td>\n",
       "    </tr>\n",
       "    <tr>\n",
       "      <th>2</th>\n",
       "      <td>Alabama</td>\n",
       "      <td>Baldwin</td>\n",
       "      <td>1</td>\n",
       "      <td>3</td>\n",
       "      <td>2021-01-07</td>\n",
       "      <td>24</td>\n",
       "      <td>Good</td>\n",
       "      <td>PM2.5</td>\n",
       "      <td>01-003-0010</td>\n",
       "      <td>1</td>\n",
       "    </tr>\n",
       "    <tr>\n",
       "      <th>3</th>\n",
       "      <td>Alabama</td>\n",
       "      <td>Baldwin</td>\n",
       "      <td>1</td>\n",
       "      <td>3</td>\n",
       "      <td>2021-01-10</td>\n",
       "      <td>39</td>\n",
       "      <td>Good</td>\n",
       "      <td>PM2.5</td>\n",
       "      <td>01-003-0010</td>\n",
       "      <td>1</td>\n",
       "    </tr>\n",
       "    <tr>\n",
       "      <th>4</th>\n",
       "      <td>Alabama</td>\n",
       "      <td>Baldwin</td>\n",
       "      <td>1</td>\n",
       "      <td>3</td>\n",
       "      <td>2021-01-13</td>\n",
       "      <td>46</td>\n",
       "      <td>Good</td>\n",
       "      <td>PM2.5</td>\n",
       "      <td>01-003-0010</td>\n",
       "      <td>1</td>\n",
       "    </tr>\n",
       "  </tbody>\n",
       "</table>\n",
       "</div>"
      ],
      "text/plain": [
       "  State Name county Name  State Code  County Code        Date  AQI Category  \\\n",
       "0    Alabama     Baldwin           1            3  2021-01-01   27     Good   \n",
       "1    Alabama     Baldwin           1            3  2021-01-04   47     Good   \n",
       "2    Alabama     Baldwin           1            3  2021-01-07   24     Good   \n",
       "3    Alabama     Baldwin           1            3  2021-01-10   39     Good   \n",
       "4    Alabama     Baldwin           1            3  2021-01-13   46     Good   \n",
       "\n",
       "  Defining Parameter Defining Site  Number of Sites Reporting  \n",
       "0              PM2.5   01-003-0010                          1  \n",
       "1              PM2.5   01-003-0010                          1  \n",
       "2              PM2.5   01-003-0010                          1  \n",
       "3              PM2.5   01-003-0010                          1  \n",
       "4              PM2.5   01-003-0010                          1  "
      ]
     },
     "execution_count": 4,
     "metadata": {},
     "output_type": "execute_result"
    }
   ],
   "source": [
    "# We can display each type of our csv's to see what we're working with\n",
    "aqi_2021_df.head()"
   ]
  },
  {
   "cell_type": "code",
   "execution_count": 5,
   "id": "ef638da5",
   "metadata": {},
   "outputs": [
    {
     "name": "stdout",
     "output_type": "stream",
     "text": [
      "218196\n"
     ]
    }
   ],
   "source": [
    "# how much data we're working with\n",
    "print(len(aqi_2021_df))"
   ]
  },
  {
   "cell_type": "code",
   "execution_count": 6,
   "id": "b3b3dd87",
   "metadata": {},
   "outputs": [
    {
     "data": {
      "text/html": [
       "<div>\n",
       "<style scoped>\n",
       "    .dataframe tbody tr th:only-of-type {\n",
       "        vertical-align: middle;\n",
       "    }\n",
       "\n",
       "    .dataframe tbody tr th {\n",
       "        vertical-align: top;\n",
       "    }\n",
       "\n",
       "    .dataframe thead th {\n",
       "        text-align: right;\n",
       "    }\n",
       "</style>\n",
       "<table border=\"1\" class=\"dataframe\">\n",
       "  <thead>\n",
       "    <tr style=\"text-align: right;\">\n",
       "      <th></th>\n",
       "      <th>case_month</th>\n",
       "      <th>res_state</th>\n",
       "      <th>state_fips_code</th>\n",
       "      <th>res_county</th>\n",
       "      <th>county_fips_code</th>\n",
       "      <th>age_group</th>\n",
       "      <th>sex</th>\n",
       "      <th>race</th>\n",
       "      <th>ethnicity</th>\n",
       "      <th>case_positive_specimen_interval</th>\n",
       "      <th>case_onset_interval</th>\n",
       "      <th>process</th>\n",
       "      <th>exposure_yn</th>\n",
       "      <th>current_status</th>\n",
       "      <th>symptom_status</th>\n",
       "      <th>hosp_yn</th>\n",
       "      <th>icu_yn</th>\n",
       "      <th>death_yn</th>\n",
       "      <th>underlying_conditions_yn</th>\n",
       "    </tr>\n",
       "  </thead>\n",
       "  <tbody>\n",
       "    <tr>\n",
       "      <th>0</th>\n",
       "      <td>2020-12</td>\n",
       "      <td>AR</td>\n",
       "      <td>5.0</td>\n",
       "      <td>BOONE</td>\n",
       "      <td>5009.0</td>\n",
       "      <td>0 - 17 years</td>\n",
       "      <td>NaN</td>\n",
       "      <td>NaN</td>\n",
       "      <td>NaN</td>\n",
       "      <td>0.0</td>\n",
       "      <td>NaN</td>\n",
       "      <td>Missing</td>\n",
       "      <td>Missing</td>\n",
       "      <td>Laboratory-confirmed case</td>\n",
       "      <td>Symptomatic</td>\n",
       "      <td>Missing</td>\n",
       "      <td>Missing</td>\n",
       "      <td>NaN</td>\n",
       "      <td>NaN</td>\n",
       "    </tr>\n",
       "    <tr>\n",
       "      <th>1</th>\n",
       "      <td>2021-10</td>\n",
       "      <td>MO</td>\n",
       "      <td>29.0</td>\n",
       "      <td>PHELPS</td>\n",
       "      <td>29161.0</td>\n",
       "      <td>0 - 17 years</td>\n",
       "      <td>NaN</td>\n",
       "      <td>NaN</td>\n",
       "      <td>NaN</td>\n",
       "      <td>0.0</td>\n",
       "      <td>NaN</td>\n",
       "      <td>Missing</td>\n",
       "      <td>Missing</td>\n",
       "      <td>Laboratory-confirmed case</td>\n",
       "      <td>Missing</td>\n",
       "      <td>Unknown</td>\n",
       "      <td>Missing</td>\n",
       "      <td>Unknown</td>\n",
       "      <td>NaN</td>\n",
       "    </tr>\n",
       "    <tr>\n",
       "      <th>2</th>\n",
       "      <td>2020-10</td>\n",
       "      <td>MO</td>\n",
       "      <td>29.0</td>\n",
       "      <td>CASS</td>\n",
       "      <td>29037.0</td>\n",
       "      <td>0 - 17 years</td>\n",
       "      <td>Female</td>\n",
       "      <td>NaN</td>\n",
       "      <td>NaN</td>\n",
       "      <td>0.0</td>\n",
       "      <td>0.0</td>\n",
       "      <td>Missing</td>\n",
       "      <td>Missing</td>\n",
       "      <td>Laboratory-confirmed case</td>\n",
       "      <td>Symptomatic</td>\n",
       "      <td>Unknown</td>\n",
       "      <td>Missing</td>\n",
       "      <td>Unknown</td>\n",
       "      <td>NaN</td>\n",
       "    </tr>\n",
       "    <tr>\n",
       "      <th>3</th>\n",
       "      <td>2021-08</td>\n",
       "      <td>TN</td>\n",
       "      <td>47.0</td>\n",
       "      <td>CLAIBORNE</td>\n",
       "      <td>47025.0</td>\n",
       "      <td>0 - 17 years</td>\n",
       "      <td>Female</td>\n",
       "      <td>Missing</td>\n",
       "      <td>Missing</td>\n",
       "      <td>0.0</td>\n",
       "      <td>NaN</td>\n",
       "      <td>Missing</td>\n",
       "      <td>Missing</td>\n",
       "      <td>Laboratory-confirmed case</td>\n",
       "      <td>Missing</td>\n",
       "      <td>Missing</td>\n",
       "      <td>Missing</td>\n",
       "      <td>Missing</td>\n",
       "      <td>NaN</td>\n",
       "    </tr>\n",
       "    <tr>\n",
       "      <th>4</th>\n",
       "      <td>2020-11</td>\n",
       "      <td>GA</td>\n",
       "      <td>13.0</td>\n",
       "      <td>EFFINGHAM</td>\n",
       "      <td>13103.0</td>\n",
       "      <td>0 - 17 years</td>\n",
       "      <td>Female</td>\n",
       "      <td>Unknown</td>\n",
       "      <td>Missing</td>\n",
       "      <td>NaN</td>\n",
       "      <td>0.0</td>\n",
       "      <td>Missing</td>\n",
       "      <td>Missing</td>\n",
       "      <td>Laboratory-confirmed case</td>\n",
       "      <td>Symptomatic</td>\n",
       "      <td>Missing</td>\n",
       "      <td>Missing</td>\n",
       "      <td>Missing</td>\n",
       "      <td>NaN</td>\n",
       "    </tr>\n",
       "  </tbody>\n",
       "</table>\n",
       "</div>"
      ],
      "text/plain": [
       "  case_month res_state  state_fips_code res_county  county_fips_code  \\\n",
       "0    2020-12        AR              5.0      BOONE            5009.0   \n",
       "1    2021-10        MO             29.0     PHELPS           29161.0   \n",
       "2    2020-10        MO             29.0       CASS           29037.0   \n",
       "3    2021-08        TN             47.0  CLAIBORNE           47025.0   \n",
       "4    2020-11        GA             13.0  EFFINGHAM           13103.0   \n",
       "\n",
       "      age_group     sex     race ethnicity  case_positive_specimen_interval  \\\n",
       "0  0 - 17 years     NaN      NaN       NaN                              0.0   \n",
       "1  0 - 17 years     NaN      NaN       NaN                              0.0   \n",
       "2  0 - 17 years  Female      NaN       NaN                              0.0   \n",
       "3  0 - 17 years  Female  Missing   Missing                              0.0   \n",
       "4  0 - 17 years  Female  Unknown   Missing                              NaN   \n",
       "\n",
       "   case_onset_interval  process exposure_yn             current_status  \\\n",
       "0                  NaN  Missing     Missing  Laboratory-confirmed case   \n",
       "1                  NaN  Missing     Missing  Laboratory-confirmed case   \n",
       "2                  0.0  Missing     Missing  Laboratory-confirmed case   \n",
       "3                  NaN  Missing     Missing  Laboratory-confirmed case   \n",
       "4                  0.0  Missing     Missing  Laboratory-confirmed case   \n",
       "\n",
       "  symptom_status  hosp_yn   icu_yn death_yn underlying_conditions_yn  \n",
       "0    Symptomatic  Missing  Missing      NaN                      NaN  \n",
       "1        Missing  Unknown  Missing  Unknown                      NaN  \n",
       "2    Symptomatic  Unknown  Missing  Unknown                      NaN  \n",
       "3        Missing  Missing  Missing  Missing                      NaN  \n",
       "4    Symptomatic  Missing  Missing  Missing                      NaN  "
      ]
     },
     "execution_count": 6,
     "metadata": {},
     "output_type": "execute_result"
    }
   ],
   "source": [
    "covid_cases_df.head()"
   ]
  },
  {
   "cell_type": "code",
   "execution_count": 7,
   "id": "0772e747",
   "metadata": {},
   "outputs": [
    {
     "name": "stdout",
     "output_type": "stream",
     "text": [
      "37532072\n"
     ]
    }
   ],
   "source": [
    "# how much data we're working with\n",
    "print(len(covid_cases_df))"
   ]
  },
  {
   "cell_type": "markdown",
   "id": "a3efbff5",
   "metadata": {},
   "source": [
    "For the Air Quality Index (AQI) columns, the sense of scale of what is considered \"good\" vs. \"moderate\" isn't clear; I don't know if a higher number is better or worse.\n",
    "\n",
    "I found the official Air Now government website AQI index indicates a lower score, on a scale of 0-500, is better:\n",
    "https://www.airnow.gov/aqi/aqi-basics/\n",
    "\n",
    "The most relevant data to see if air-quality improved/plateaued/worsened starts at 2019, before government lockdowns. If needed, we can average the values across previous years up to 2019.\n",
    "\n",
    "2020 and 2021 will be the focal point for comparison against data from 2019."
   ]
  },
  {
   "cell_type": "markdown",
   "id": "11bcabcc",
   "metadata": {},
   "source": [
    "**Section I.ii: Time to clean some of the missing data from the covid_cases_df:**"
   ]
  },
  {
   "cell_type": "markdown",
   "id": "02d24742",
   "metadata": {},
   "source": [
    "The issue here is now getting rid of the columns/entries where the data that is missing is not relevant or can not be used to make defintive conclusions.\n",
    "\n",
    "That would be entries where the county of residence, res_county, is missing/NaN. We need the res_county because we'll use that data later on to compare the air quality in that county to what proportion of residents were hospitalized for COVID-19.\n",
    "\n",
    "Additionally, other entries have columns coded as \"missing\" when the info was not provided, according to the data dictionary for this dataset: https://data.cdc.gov/Case-Surveillance/COVID-19-Case-Surveillance-Public-Use-Data-with-Ge/n8mc-b4w4/about_data."
   ]
  },
  {
   "cell_type": "code",
   "execution_count": 8,
   "id": "85fe7b9f",
   "metadata": {},
   "outputs": [
    {
     "data": {
      "text/plain": [
       "case_month                               12\n",
       "res_state                               920\n",
       "state_fips_code                         920\n",
       "res_county                          2561284\n",
       "county_fips_code                    2561284\n",
       "age_group                            406634\n",
       "sex                                 1244276\n",
       "race                                6597416\n",
       "ethnicity                           7837672\n",
       "case_positive_specimen_interval    25113195\n",
       "case_onset_interval                20221411\n",
       "process                                   0\n",
       "exposure_yn                               0\n",
       "current_status                            0\n",
       "symptom_status                            0\n",
       "hosp_yn                                   0\n",
       "icu_yn                                    0\n",
       "death_yn                            1752914\n",
       "underlying_conditions_yn           35206303\n",
       "dtype: int64"
      ]
     },
     "execution_count": 8,
     "metadata": {},
     "output_type": "execute_result"
    }
   ],
   "source": [
    "covid_cases_df.isna().sum()"
   ]
  },
  {
   "cell_type": "code",
   "execution_count": 9,
   "id": "6bfd5ab0",
   "metadata": {},
   "outputs": [],
   "source": [
    "# we'll get rid of the columns case_positive_specimen_interval and case_onset_interval\n",
    "# since these columns only describe specific information for the patient.\n",
    "# we'll need more abstract data regarding patients as a whole, not for each individual.\n",
    "covid_cases_df = covid_cases_df.drop(\"case_positive_specimen_interval\", axis=1)\n",
    "covid_cases_df = covid_cases_df.drop(\"case_onset_interval\", axis=1)"
   ]
  },
  {
   "cell_type": "code",
   "execution_count": 10,
   "id": "f3fee197",
   "metadata": {},
   "outputs": [],
   "source": [
    "# we'll also get rid of underlying conditions since at least ~94.6% of the entries at NaN/missing\n",
    "covid_cases_df = covid_cases_df.drop(\"underlying_conditions_yn\", axis=1)"
   ]
  },
  {
   "cell_type": "code",
   "execution_count": 11,
   "id": "c711d1c8",
   "metadata": {},
   "outputs": [],
   "source": [
    "# we can also get rid of fips codes since they won't be necessary\n",
    "# and we can get rid of patient data where their state is not known\n",
    "covid_cases_df[\"res_state\"].dropna(inplace=True)\n",
    "covid_cases_df = covid_cases_df.drop(\"county_fips_code\", axis=1)"
   ]
  },
  {
   "cell_type": "code",
   "execution_count": 12,
   "id": "24edc556",
   "metadata": {},
   "outputs": [],
   "source": [
    "# we probably don't need to know if the person probably had COVID-19,\n",
    "# only if they had a \"Laboratory-confirmed case\"\n",
    "# we'll drop the rows where it is \"Probable Case\" and then drop the current_status column\n",
    "covid_cases_df.drop(covid_cases_df[covid_cases_df[\"current_status\"]==\"Probable case\"].index, inplace=True)\n",
    "covid_cases_df = covid_cases_df.drop(\"current_status\", axis=1)"
   ]
  },
  {
   "cell_type": "markdown",
   "id": "fb243967",
   "metadata": {},
   "source": [
    "**Section I.iii: Dealing with Missing values:**\n",
    "\n",
    "Now we have to deal with the data labeled as \"Missing\". These are basically NaN/Unknown values, but were only coded as such when the data wasn't provided by the patient. I'll change these values to \"Unknown\" because I think it'll be slighltly more descriptive for someone that hasn't looked at the data dictionary.\n",
    "\n",
    "Then we'll gauge how much of the data is labeled \"Unknown\" and go from there."
   ]
  },
  {
   "cell_type": "code",
   "execution_count": 13,
   "id": "abf7c5e6",
   "metadata": {},
   "outputs": [],
   "source": [
    "# where sex is NaN, fill with \"Unknown\"\n",
    "covid_cases_df[\"sex\"].fillna(\"Unknown\", inplace=True)\n",
    "covid_cases_df[\"sex\"].replace(\"Missing\", \"Unknown\", inplace=True)"
   ]
  },
  {
   "cell_type": "code",
   "execution_count": 14,
   "id": "8532df40",
   "metadata": {},
   "outputs": [],
   "source": [
    "# we'll do the same w/race, ethnicity, and age_group\n",
    "covid_cases_df[\"race\"].fillna(\"Unknown\", inplace = True)\n",
    "covid_cases_df[\"race\"].replace(\"Missing\", \"Unknown\", inplace=True)\n",
    "\n",
    "covid_cases_df[\"ethnicity\"].fillna(\"Unknown\", inplace = True)\n",
    "covid_cases_df[\"ethnicity\"].replace(\"Missing\", \"Unknown\", inplace=True)\n",
    "\n",
    "covid_cases_df[\"age_group\"].fillna(\"Unknown\", inplace = True)\n",
    "covid_cases_df[\"age_group\"].replace(\"Missing\", \"Unknown\", inplace=True)"
   ]
  },
  {
   "cell_type": "code",
   "execution_count": 15,
   "id": "9cafb05f",
   "metadata": {},
   "outputs": [],
   "source": [
    "# we can also get rid of process and symptom_status since keeping both doesn't change the fact\n",
    "# the patient was declared potentially sick in the first place\n",
    "covid_cases_df.drop(labels=[\"process\", \"symptom_status\"], axis=1, inplace=True)"
   ]
  },
  {
   "cell_type": "code",
   "execution_count": 16,
   "id": "7d7f69e9",
   "metadata": {},
   "outputs": [],
   "source": [
    "# we can do this with the rest of the data now\n",
    "covid_cases_df[\"exposure_yn\"].replace(\"Missing\", \"Unknown\", inplace=True)\n",
    "\n",
    "covid_cases_df[\"hosp_yn\"].replace(\"Missing\", \"Unknown\", inplace=True)\n",
    "\n",
    "covid_cases_df[\"icu_yn\"].replace(\"Missing\", \"Unknown\", inplace=True)\n",
    "\n",
    "covid_cases_df[\"death_yn\"].fillna(\"Unknown\", inplace = True)\n",
    "covid_cases_df[\"death_yn\"].replace(\"Missing\", \"Unknown\", inplace=True)"
   ]
  },
  {
   "cell_type": "code",
   "execution_count": 17,
   "id": "2cdafb26",
   "metadata": {},
   "outputs": [],
   "source": [
    "covid_cases_df[\"case_month\"].fillna(\"Unknown\", inplace = True)\n",
    "covid_cases_df[\"res_state\"].fillna(\"Unknown\", inplace = True)\n",
    "covid_cases_df[\"res_county\"].fillna(\"Unknown\", inplace = True)\n",
    "covid_cases_df[\"state_fips_code\"].fillna(\"Unknown\", inplace = True)"
   ]
  },
  {
   "cell_type": "markdown",
   "id": "4ad9f124",
   "metadata": {},
   "source": [
    "**Section I.iv**"
   ]
  },
  {
   "cell_type": "code",
   "execution_count": 18,
   "id": "5061e0b5",
   "metadata": {},
   "outputs": [
    {
     "name": "stdout",
     "output_type": "stream",
     "text": [
      "{'case_month': 12, 'res_state': 920, 'state_fips_code': 920, 'res_county': 2561284, 'age_group': 761547, 'sex': 1525542, 'race': 14734851, 'ethnicity': 17400001, 'exposure_yn': 35113152, 'hosp_yn': 20215271, 'icu_yn': 35543535, 'death_yn': 23880332}\n"
     ]
    }
   ],
   "source": [
    "# how much data is labeled as Unknown?\n",
    "\n",
    "denominator = len(covid_cases_df)\n",
    "is_unknown = {}\n",
    "for col in covid_cases_df:\n",
    "    is_unknown[col] = covid_cases_df[col].value_counts()[\"Unknown\"]\n",
    "\n",
    "print(is_unknown)"
   ]
  },
  {
   "cell_type": "code",
   "execution_count": 19,
   "id": "3156fac9",
   "metadata": {},
   "outputs": [
    {
     "data": {
      "image/png": "[encoded data removed]",
      "text/plain": [
       "<Figure size 640x480 with 1 Axes>"
      ]
     },
     "metadata": {},
     "output_type": "display_data"
    }
   ],
   "source": [
    "# put keys and values into arrays so they are ordered\n",
    "labels = list(is_unknown.keys())\n",
    "# each value for each key\n",
    "counts = [is_unknown[k] for k in labels]\n",
    "\n",
    "labels = [label for label, _ in sorted(zip(labels, counts), key=lambda pair: pair[1])]\n",
    "# put in to descending order\n",
    "labels.reverse()\n",
    "# put in to descending order\n",
    "counts.sort(reverse=True)\n",
    "\n",
    "my_plot = sns.barplot(x=counts, y=labels)\n",
    "    \n",
    "plt.title(\"Number of Unknown Values per Label\")\n",
    "plt.ylabel(\"Labels\")\n",
    "plt.yticks(fontsize=7)\n",
    "plt.xlabel(\"Count\")\n",
    "plt.xlim(0, len(covid_cases_df))\n",
    "plt.show()"
   ]
  },
  {
   "cell_type": "markdown",
   "id": "4d602e9a",
   "metadata": {},
   "source": [
    "Now based on these numbers we can determine if we want to get rid of some of the columns or row associate with them:\n",
    "\n",
    "- The columns \"icu_yn\" and \"exposure_yn\" have so many missing values that it does not make sense to keep them.\n",
    "\n",
    "- Deaths compose a large part of the data and could be valuable for later analysis. We'll keep them for now just in case.\n",
    "\n",
    "- Race, ethnicity, and sex could be used later, though they aren't immediately useful\n",
    "\n",
    "- The columns res_county, age_group, and res_state will all be useful, but they have some unknown values.\n",
    "\n",
    "- Whether patients were hospitalized or not could also be useful for later, so we'll keep it for now. "
   ]
  },
  {
   "cell_type": "code",
   "execution_count": 20,
   "id": "51b379c2",
   "metadata": {},
   "outputs": [],
   "source": [
    "covid_cases_df.drop(labels=[\"icu_yn\", \"exposure_yn\"], axis=1, inplace=True)"
   ]
  },
  {
   "cell_type": "code",
   "execution_count": 21,
   "id": "78e8984f",
   "metadata": {},
   "outputs": [],
   "source": [
    "covid_cases_df = covid_cases_df[covid_cases_df[\"age_group\"]!=\"Unknown\"]\n",
    "covid_cases_df = covid_cases_df[covid_cases_df[\"res_county\"]!=\"Unknown\"]\n",
    "covid_cases_df = covid_cases_df[covid_cases_df[\"res_state\"]!=\"Unknown\"]"
   ]
  },
  {
   "cell_type": "code",
   "execution_count": 22,
   "id": "f433b816",
   "metadata": {},
   "outputs": [],
   "source": [
    "# # lower case so it is the same as county Name in the AQI dataframes\n",
    "# for i in range(len(covid_cases_df)):\n",
    "#     covid_cases_df[\"res_county\"].iloc[i] = covid_cases_df[\"res_county\"].iloc[i].lower()"
   ]
  },
  {
   "cell_type": "code",
   "execution_count": 23,
   "id": "22ba3bd9",
   "metadata": {},
   "outputs": [
    {
     "data": {
      "text/html": [
       "<div>\n",
       "<style scoped>\n",
       "    .dataframe tbody tr th:only-of-type {\n",
       "        vertical-align: middle;\n",
       "    }\n",
       "\n",
       "    .dataframe tbody tr th {\n",
       "        vertical-align: top;\n",
       "    }\n",
       "\n",
       "    .dataframe thead th {\n",
       "        text-align: right;\n",
       "    }\n",
       "</style>\n",
       "<table border=\"1\" class=\"dataframe\">\n",
       "  <thead>\n",
       "    <tr style=\"text-align: right;\">\n",
       "      <th></th>\n",
       "      <th>case_month</th>\n",
       "      <th>res_state</th>\n",
       "      <th>state_fips_code</th>\n",
       "      <th>res_county</th>\n",
       "      <th>age_group</th>\n",
       "      <th>sex</th>\n",
       "      <th>race</th>\n",
       "      <th>ethnicity</th>\n",
       "      <th>hosp_yn</th>\n",
       "      <th>death_yn</th>\n",
       "    </tr>\n",
       "  </thead>\n",
       "  <tbody>\n",
       "    <tr>\n",
       "      <th>0</th>\n",
       "      <td>2020-12</td>\n",
       "      <td>AR</td>\n",
       "      <td>5.0</td>\n",
       "      <td>BOONE</td>\n",
       "      <td>0 - 17 years</td>\n",
       "      <td>Unknown</td>\n",
       "      <td>Unknown</td>\n",
       "      <td>Unknown</td>\n",
       "      <td>Unknown</td>\n",
       "      <td>Unknown</td>\n",
       "    </tr>\n",
       "    <tr>\n",
       "      <th>1</th>\n",
       "      <td>2021-10</td>\n",
       "      <td>MO</td>\n",
       "      <td>29.0</td>\n",
       "      <td>PHELPS</td>\n",
       "      <td>0 - 17 years</td>\n",
       "      <td>Unknown</td>\n",
       "      <td>Unknown</td>\n",
       "      <td>Unknown</td>\n",
       "      <td>Unknown</td>\n",
       "      <td>Unknown</td>\n",
       "    </tr>\n",
       "    <tr>\n",
       "      <th>2</th>\n",
       "      <td>2020-10</td>\n",
       "      <td>MO</td>\n",
       "      <td>29.0</td>\n",
       "      <td>CASS</td>\n",
       "      <td>0 - 17 years</td>\n",
       "      <td>Female</td>\n",
       "      <td>Unknown</td>\n",
       "      <td>Unknown</td>\n",
       "      <td>Unknown</td>\n",
       "      <td>Unknown</td>\n",
       "    </tr>\n",
       "    <tr>\n",
       "      <th>3</th>\n",
       "      <td>2021-08</td>\n",
       "      <td>TN</td>\n",
       "      <td>47.0</td>\n",
       "      <td>CLAIBORNE</td>\n",
       "      <td>0 - 17 years</td>\n",
       "      <td>Female</td>\n",
       "      <td>Unknown</td>\n",
       "      <td>Unknown</td>\n",
       "      <td>Unknown</td>\n",
       "      <td>Unknown</td>\n",
       "    </tr>\n",
       "    <tr>\n",
       "      <th>4</th>\n",
       "      <td>2020-11</td>\n",
       "      <td>GA</td>\n",
       "      <td>13.0</td>\n",
       "      <td>EFFINGHAM</td>\n",
       "      <td>0 - 17 years</td>\n",
       "      <td>Female</td>\n",
       "      <td>Unknown</td>\n",
       "      <td>Unknown</td>\n",
       "      <td>Unknown</td>\n",
       "      <td>Unknown</td>\n",
       "    </tr>\n",
       "  </tbody>\n",
       "</table>\n",
       "</div>"
      ],
      "text/plain": [
       "  case_month res_state state_fips_code res_county     age_group      sex  \\\n",
       "0    2020-12        AR             5.0      BOONE  0 - 17 years  Unknown   \n",
       "1    2021-10        MO            29.0     PHELPS  0 - 17 years  Unknown   \n",
       "2    2020-10        MO            29.0       CASS  0 - 17 years   Female   \n",
       "3    2021-08        TN            47.0  CLAIBORNE  0 - 17 years   Female   \n",
       "4    2020-11        GA            13.0  EFFINGHAM  0 - 17 years   Female   \n",
       "\n",
       "      race ethnicity  hosp_yn death_yn  \n",
       "0  Unknown   Unknown  Unknown  Unknown  \n",
       "1  Unknown   Unknown  Unknown  Unknown  \n",
       "2  Unknown   Unknown  Unknown  Unknown  \n",
       "3  Unknown   Unknown  Unknown  Unknown  \n",
       "4  Unknown   Unknown  Unknown  Unknown  "
      ]
     },
     "execution_count": 23,
     "metadata": {},
     "output_type": "execute_result"
    }
   ],
   "source": [
    "covid_cases_df.head()"
   ]
  },
  {
   "cell_type": "markdown",
   "id": "050ac412",
   "metadata": {},
   "source": [
    "**Section I.v: Next up: cleaning up AQI index dataframes:**"
   ]
  },
  {
   "cell_type": "code",
   "execution_count": 24,
   "id": "982fbc74",
   "metadata": {},
   "outputs": [
    {
     "data": {
      "text/plain": [
       "State Name                   0\n",
       "county Name                  0\n",
       "State Code                   0\n",
       "County Code                  0\n",
       "Date                         0\n",
       "AQI                          0\n",
       "Category                     0\n",
       "Defining Parameter           0\n",
       "Defining Site                0\n",
       "Number of Sites Reporting    0\n",
       "dtype: int64"
      ]
     },
     "execution_count": 24,
     "metadata": {},
     "output_type": "execute_result"
    }
   ],
   "source": [
    "aqi_2019_df.isna().sum()"
   ]
  },
  {
   "cell_type": "code",
   "execution_count": 25,
   "id": "625d628f",
   "metadata": {},
   "outputs": [
    {
     "data": {
      "text/plain": [
       "State Name                   0\n",
       "county Name                  0\n",
       "State Code                   0\n",
       "County Code                  0\n",
       "Date                         0\n",
       "AQI                          0\n",
       "Category                     0\n",
       "Defining Parameter           0\n",
       "Defining Site                0\n",
       "Number of Sites Reporting    0\n",
       "dtype: int64"
      ]
     },
     "execution_count": 25,
     "metadata": {},
     "output_type": "execute_result"
    }
   ],
   "source": [
    "aqi_2020_df.isna().sum()"
   ]
  },
  {
   "cell_type": "code",
   "execution_count": 26,
   "id": "03fbceb7",
   "metadata": {},
   "outputs": [
    {
     "data": {
      "text/plain": [
       "State Name                   0\n",
       "county Name                  0\n",
       "State Code                   0\n",
       "County Code                  0\n",
       "Date                         0\n",
       "AQI                          0\n",
       "Category                     0\n",
       "Defining Parameter           0\n",
       "Defining Site                0\n",
       "Number of Sites Reporting    0\n",
       "dtype: int64"
      ]
     },
     "execution_count": 26,
     "metadata": {},
     "output_type": "execute_result"
    }
   ],
   "source": [
    "aqi_2021_df.isna().sum()"
   ]
  },
  {
   "cell_type": "markdown",
   "id": "5e47a660",
   "metadata": {},
   "source": [
    "Thankfully, there is no missing data!"
   ]
  },
  {
   "cell_type": "code",
   "execution_count": 27,
   "id": "74b4d0d3",
   "metadata": {},
   "outputs": [
    {
     "data": {
      "text/html": [
       "<div>\n",
       "<style scoped>\n",
       "    .dataframe tbody tr th:only-of-type {\n",
       "        vertical-align: middle;\n",
       "    }\n",
       "\n",
       "    .dataframe tbody tr th {\n",
       "        vertical-align: top;\n",
       "    }\n",
       "\n",
       "    .dataframe thead th {\n",
       "        text-align: right;\n",
       "    }\n",
       "</style>\n",
       "<table border=\"1\" class=\"dataframe\">\n",
       "  <thead>\n",
       "    <tr style=\"text-align: right;\">\n",
       "      <th></th>\n",
       "      <th>State Name</th>\n",
       "      <th>county Name</th>\n",
       "      <th>State Code</th>\n",
       "      <th>County Code</th>\n",
       "      <th>Date</th>\n",
       "      <th>AQI</th>\n",
       "      <th>Category</th>\n",
       "      <th>Defining Parameter</th>\n",
       "      <th>Defining Site</th>\n",
       "      <th>Number of Sites Reporting</th>\n",
       "    </tr>\n",
       "  </thead>\n",
       "  <tbody>\n",
       "    <tr>\n",
       "      <th>0</th>\n",
       "      <td>Alabama</td>\n",
       "      <td>Baldwin</td>\n",
       "      <td>1</td>\n",
       "      <td>3</td>\n",
       "      <td>2020-01-01</td>\n",
       "      <td>48</td>\n",
       "      <td>Good</td>\n",
       "      <td>PM2.5</td>\n",
       "      <td>01-003-0010</td>\n",
       "      <td>1</td>\n",
       "    </tr>\n",
       "    <tr>\n",
       "      <th>1</th>\n",
       "      <td>Alabama</td>\n",
       "      <td>Baldwin</td>\n",
       "      <td>1</td>\n",
       "      <td>3</td>\n",
       "      <td>2020-01-04</td>\n",
       "      <td>13</td>\n",
       "      <td>Good</td>\n",
       "      <td>PM2.5</td>\n",
       "      <td>01-003-0010</td>\n",
       "      <td>1</td>\n",
       "    </tr>\n",
       "    <tr>\n",
       "      <th>2</th>\n",
       "      <td>Alabama</td>\n",
       "      <td>Baldwin</td>\n",
       "      <td>1</td>\n",
       "      <td>3</td>\n",
       "      <td>2020-01-07</td>\n",
       "      <td>14</td>\n",
       "      <td>Good</td>\n",
       "      <td>PM2.5</td>\n",
       "      <td>01-003-0010</td>\n",
       "      <td>1</td>\n",
       "    </tr>\n",
       "    <tr>\n",
       "      <th>3</th>\n",
       "      <td>Alabama</td>\n",
       "      <td>Baldwin</td>\n",
       "      <td>1</td>\n",
       "      <td>3</td>\n",
       "      <td>2020-01-10</td>\n",
       "      <td>39</td>\n",
       "      <td>Good</td>\n",
       "      <td>PM2.5</td>\n",
       "      <td>01-003-0010</td>\n",
       "      <td>1</td>\n",
       "    </tr>\n",
       "    <tr>\n",
       "      <th>4</th>\n",
       "      <td>Alabama</td>\n",
       "      <td>Baldwin</td>\n",
       "      <td>1</td>\n",
       "      <td>3</td>\n",
       "      <td>2020-01-13</td>\n",
       "      <td>29</td>\n",
       "      <td>Good</td>\n",
       "      <td>PM2.5</td>\n",
       "      <td>01-003-0010</td>\n",
       "      <td>1</td>\n",
       "    </tr>\n",
       "  </tbody>\n",
       "</table>\n",
       "</div>"
      ],
      "text/plain": [
       "  State Name county Name  State Code  County Code        Date  AQI Category  \\\n",
       "0    Alabama     Baldwin           1            3  2020-01-01   48     Good   \n",
       "1    Alabama     Baldwin           1            3  2020-01-04   13     Good   \n",
       "2    Alabama     Baldwin           1            3  2020-01-07   14     Good   \n",
       "3    Alabama     Baldwin           1            3  2020-01-10   39     Good   \n",
       "4    Alabama     Baldwin           1            3  2020-01-13   29     Good   \n",
       "\n",
       "  Defining Parameter Defining Site  Number of Sites Reporting  \n",
       "0              PM2.5   01-003-0010                          1  \n",
       "1              PM2.5   01-003-0010                          1  \n",
       "2              PM2.5   01-003-0010                          1  \n",
       "3              PM2.5   01-003-0010                          1  \n",
       "4              PM2.5   01-003-0010                          1  "
      ]
     },
     "execution_count": 27,
     "metadata": {},
     "output_type": "execute_result"
    }
   ],
   "source": [
    "aqi_2020_df.head()"
   ]
  },
  {
   "cell_type": "code",
   "execution_count": 28,
   "id": "57f5b059",
   "metadata": {},
   "outputs": [],
   "source": [
    "# get rid of unnecessary columns:\n",
    "aqi_dfs = [aqi_2019_df, aqi_2020_df, aqi_2021_df]\n",
    "\n",
    "for df in aqi_dfs:\n",
    "    df.drop(labels=[\"County Code\", \"Defining Site\", \"Number of Sites Reporting\"], axis=1, inplace=True)"
   ]
  },
  {
   "cell_type": "markdown",
   "id": "1169c49d",
   "metadata": {},
   "source": [
    "## II: Data Processing ##"
   ]
  },
  {
   "cell_type": "markdown",
   "id": "4526a9f4",
   "metadata": {},
   "source": [
    "**Section II.i**"
   ]
  },
  {
   "cell_type": "markdown",
   "id": "01d4d0c2",
   "metadata": {},
   "source": [
    "Now we're going to start to combine some of the features from the datasets into a separate dataframe that will be easier to process. This dataframe will be used later for models that can help answer our main questions.\n",
    "\n",
    "We'll also try to figure out hospitalization rates for each state.\n",
    "\n",
    "There is also the issue that the covid_cases_df and the AQI df's don't use the same coding for states. We'll see if we can use those state codes, but if we can't, then we'll just change the state abbreviations in the covid_cases_df to the actual state name."
   ]
  },
  {
   "cell_type": "code",
   "execution_count": 29,
   "id": "e0a1bb4c",
   "metadata": {},
   "outputs": [
    {
     "name": "stdout",
     "output_type": "stream",
     "text": [
      "Alabama [1]\n",
      "Alaska [2]\n",
      "Arizona [4]\n",
      "Arkansas [5]\n",
      "California [6]\n",
      "Colorado [8]\n",
      "Connecticut [9]\n",
      "Country Of Mexico [80]\n",
      "Delaware [10]\n",
      "District Of Columbia [11]\n",
      "Florida [12]\n",
      "Georgia [13]\n",
      "Hawaii [15]\n",
      "Idaho [16]\n",
      "Illinois [17]\n",
      "Indiana [18]\n",
      "Iowa [19]\n",
      "Kansas [20]\n",
      "Kentucky [21]\n",
      "Louisiana [22]\n",
      "Maine [23]\n",
      "Maryland [24]\n",
      "Massachusetts [25]\n",
      "Michigan [26]\n",
      "Minnesota [27]\n",
      "Mississippi [28]\n",
      "Missouri [29]\n",
      "Montana [30]\n",
      "Nebraska [31]\n",
      "Nevada [32]\n",
      "New Hampshire [33]\n",
      "New Jersey [34]\n",
      "New Mexico [35]\n",
      "New York [36]\n",
      "North Carolina [37]\n",
      "North Dakota [38]\n",
      "Ohio [39]\n",
      "Oklahoma [40]\n",
      "Oregon [41]\n",
      "Pennsylvania [42]\n",
      "Puerto Rico [72]\n",
      "Rhode Island [44]\n",
      "South Carolina [45]\n",
      "South Dakota [46]\n",
      "Tennessee [47]\n",
      "Texas [48]\n",
      "Utah [49]\n",
      "Vermont [50]\n",
      "Virgin Islands [78]\n",
      "Virginia [51]\n",
      "Washington [53]\n",
      "West Virginia [54]\n",
      "Wisconsin [55]\n",
      "Wyoming [56]\n"
     ]
    }
   ],
   "source": [
    "# See if we can use the state codes\n",
    "for state in aqi_2019_df[\"State Name\"].unique():\n",
    "    print(state, aqi_2019_df.loc[aqi_2019_df[\"State Name\"] == state, \"State Code\"].unique())"
   ]
  },
  {
   "cell_type": "code",
   "execution_count": 30,
   "id": "2865490d",
   "metadata": {},
   "outputs": [
    {
     "name": "stdout",
     "output_type": "stream",
     "text": [
      "AR [5.0]\n",
      "MO [29.0]\n",
      "TN [47.0]\n",
      "GA [13.0]\n",
      "OH [39.0]\n",
      "NY [36.0]\n",
      "MN [27.0]\n",
      "IL [17.0]\n",
      "SC [45.0]\n",
      "WI [55.0]\n",
      "MI [26.0]\n",
      "CO [8.0]\n",
      "FL [12.0]\n",
      "IA [19.0]\n",
      "NH [33.0]\n",
      "VA [51.0]\n",
      "PA [42.0]\n",
      "OR [41.0]\n",
      "ME [23.0]\n",
      "AL [1.0]\n",
      "AZ [4.0]\n",
      "CT [9.0]\n",
      "NM [35.0]\n",
      "NC [37.0]\n",
      "KS [20.0]\n",
      "MT [30.0]\n",
      "MS [28.0]\n",
      "CA [6.0]\n",
      "KY [21.0]\n",
      "MD [24.0]\n",
      "IN [18.0]\n",
      "WA [53.0]\n",
      "TX [48.0]\n",
      "AK [2.0]\n",
      "MA [25.0]\n",
      "OK [40.0]\n",
      "NE [31.0]\n",
      "UT [49.0]\n",
      "VT [50.0]\n",
      "SD [46.0]\n",
      "NJ [34.0]\n",
      "WY [56.0]\n",
      "RI [44.0]\n",
      "DE [10.0]\n",
      "ID [16.0]\n",
      "NV [32.0]\n",
      "HI [15.0]\n",
      "ND [38.0]\n",
      "WV [54.0]\n",
      "LA [22.0]\n"
     ]
    }
   ],
   "source": [
    "# See if we can use the state codes\n",
    "for state in covid_cases_df[\"res_state\"].unique():\n",
    "    print(state, covid_cases_df.loc[covid_cases_df[\"res_state\"] == state, \"state_fips_code\"].unique())"
   ]
  },
  {
   "cell_type": "markdown",
   "id": "fad44051",
   "metadata": {},
   "source": [
    "**Section II.ii**"
   ]
  },
  {
   "cell_type": "markdown",
   "id": "a3430540",
   "metadata": {},
   "source": [
    "It turns out that the \"State Code\" in the AQI index dataframes is the same as the \"state_fips_code\" in the covid_cases_df. This makes some of the data processing easier! We'll base the values for hospitalizations and AQI statistics on the state_fips_code values.\n",
    "\n",
    "Here's the plan:\n",
    "1. First, we'll get rid of the states not shared by both dataframes, which included Guam (GU), nan [], and the Country of Mexico (80). \n",
    "2. Then we'll cast the State Codes to floats.\n",
    "3. We'll add info about the states into the model_states_df via the state codes."
   ]
  },
  {
   "cell_type": "markdown",
   "id": "7f90732c",
   "metadata": {},
   "source": [
    "Step 1:"
   ]
  },
  {
   "cell_type": "code",
   "execution_count": 31,
   "id": "2589268b",
   "metadata": {},
   "outputs": [],
   "source": [
    "covid_cases_df[\"state_fips_code\"].dropna(inplace=True)\n",
    "covid_cases_df = covid_cases_df[covid_cases_df[\"state_fips_code\"] != 'GU']"
   ]
  },
  {
   "cell_type": "code",
   "execution_count": 32,
   "id": "7fec7559",
   "metadata": {},
   "outputs": [],
   "source": [
    "aqi_2019_df = aqi_2019_df[aqi_2019_df[\"State Code\"] != 80]\n",
    "aqi_2020_df = aqi_2020_df[aqi_2020_df[\"State Code\"] != 80]\n",
    "aqi_2021_df = aqi_2021_df[aqi_2021_df[\"State Code\"] != 80]"
   ]
  },
  {
   "cell_type": "markdown",
   "id": "fd499d95",
   "metadata": {},
   "source": [
    "Step 2:"
   ]
  },
  {
   "cell_type": "code",
   "execution_count": 33,
   "id": "18203262",
   "metadata": {},
   "outputs": [
    {
     "name": "stderr",
     "output_type": "stream",
     "text": [
      "/var/folders/xq/fj3st__56r54gz9tdvb7d2k40000gn/T/ipykernel_49275/1378819043.py:5: SettingWithCopyWarning: \n",
      "A value is trying to be set on a copy of a slice from a DataFrame\n",
      "\n",
      "See the caveats in the documentation: https://pandas.pydata.org/pandas-docs/stable/user_guide/indexing.html#returning-a-view-versus-a-copy\n",
      "  df[\"State Code\"].iloc[i] = float(df[\"State Code\"].iloc[i])\n"
     ]
    }
   ],
   "source": [
    "aqi_dfs = [aqi_2019_df, aqi_2020_df, aqi_2021_df]\n",
    "\n",
    "for df in aqi_dfs:\n",
    "    for i in range(len(df)):\n",
    "        df[\"State Code\"].iloc[i] = float(df[\"State Code\"].iloc[i])"
   ]
  },
  {
   "cell_type": "markdown",
   "id": "cd3e02c2",
   "metadata": {},
   "source": [
    "Step 3:"
   ]
  },
  {
   "cell_type": "code",
   "execution_count": 34,
   "id": "d9f8f0e8",
   "metadata": {},
   "outputs": [],
   "source": [
    "# get states\n",
    "states = aqi_2019_df[\"State Name\"].unique()\n",
    "# get state codes\n",
    "codes = []\n",
    "for state in aqi_2019_df[\"State Name\"].unique():\n",
    "    codes += [float(aqi_2019_df.loc[aqi_2019_df[\"State Name\"] == state, \"State Code\"].unique())]\n",
    "\n",
    "model_states_df = pd.DataFrame(states, columns = [\"State\"])\n",
    "model_states_df[\"State Code\"] = codes"
   ]
  },
  {
   "cell_type": "code",
   "execution_count": 35,
   "id": "58c68bb5",
   "metadata": {},
   "outputs": [
    {
     "data": {
      "text/html": [
       "<div>\n",
       "<style scoped>\n",
       "    .dataframe tbody tr th:only-of-type {\n",
       "        vertical-align: middle;\n",
       "    }\n",
       "\n",
       "    .dataframe tbody tr th {\n",
       "        vertical-align: top;\n",
       "    }\n",
       "\n",
       "    .dataframe thead th {\n",
       "        text-align: right;\n",
       "    }\n",
       "</style>\n",
       "<table border=\"1\" class=\"dataframe\">\n",
       "  <thead>\n",
       "    <tr style=\"text-align: right;\">\n",
       "      <th></th>\n",
       "      <th>State</th>\n",
       "      <th>State Code</th>\n",
       "    </tr>\n",
       "  </thead>\n",
       "  <tbody>\n",
       "    <tr>\n",
       "      <th>0</th>\n",
       "      <td>Alabama</td>\n",
       "      <td>1.0</td>\n",
       "    </tr>\n",
       "    <tr>\n",
       "      <th>1</th>\n",
       "      <td>Alaska</td>\n",
       "      <td>2.0</td>\n",
       "    </tr>\n",
       "    <tr>\n",
       "      <th>2</th>\n",
       "      <td>Arizona</td>\n",
       "      <td>4.0</td>\n",
       "    </tr>\n",
       "    <tr>\n",
       "      <th>3</th>\n",
       "      <td>Arkansas</td>\n",
       "      <td>5.0</td>\n",
       "    </tr>\n",
       "    <tr>\n",
       "      <th>4</th>\n",
       "      <td>California</td>\n",
       "      <td>6.0</td>\n",
       "    </tr>\n",
       "  </tbody>\n",
       "</table>\n",
       "</div>"
      ],
      "text/plain": [
       "        State  State Code\n",
       "0     Alabama         1.0\n",
       "1      Alaska         2.0\n",
       "2     Arizona         4.0\n",
       "3    Arkansas         5.0\n",
       "4  California         6.0"
      ]
     },
     "execution_count": 35,
     "metadata": {},
     "output_type": "execute_result"
    }
   ],
   "source": [
    "model_states_df.head()"
   ]
  },
  {
   "cell_type": "markdown",
   "id": "4db20c52",
   "metadata": {},
   "source": [
    "We can also add the region of each state to make visualizations later based on general geographic area in the United States:\n",
    "\n",
    "- **Non-continental**: Puerto Rico, D.C, and the Virgin Islands (not part of the continental United States and Hawaii, also D.C)\n",
    "- **Northeast**: Connecticut, Maine, Massachusetts, New Hampshire, New Jersey, New York, Pennsylvania, Rhode Island, and Vermont\n",
    "- **Midwest**: Illinois, Indiana, Iowa, Kansas, Michigan, Minnesota, Missouri, Nebraska, North Dakota, Ohio, South Dakota, and Wisconsin\n",
    "- **South**: Alabama, Arkansas, Delaware, District of Columbia, Florida, Georgia, Kentucky, Louisiana, Maryland, Mississippi, North Carolina, Oklahoma, South Carolina, Tennessee, Texas, Virginia, and West Virginia\n",
    "- **West**: Alaska, Arizona, California, Colorado, Hawaii, Idaho, Montana, Nevada, New Mexico, Oregon, Utah, Washington, and Wyoming\n",
    "\n",
    "Based on:\n",
    "https://www.cdc.gov/nchs/hus/sources-definitions/geographic-region.htm"
   ]
  },
  {
   "cell_type": "code",
   "execution_count": 36,
   "id": "c4b8da7a",
   "metadata": {},
   "outputs": [],
   "source": [
    "non_continental = [\"Puerto Rico\", \"Virgin Islands\", \"District Of Columbia\"]\n",
    "northeast = [\"Connecticut\", \"Maine\", \"Massachusetts\", \"New Hampshire\", \"New Jersey\", \"New York\", \"Pennsylvania\", \"Rhode Island\", \"Vermont\"]\n",
    "midwest = [\"Illinois\", \"Indiana\", \"Iowa\", \"Kansas\", \"Michigan\", \"Minnesota\", \"Missouri\", \"Nebraska\", \"North Dakota\", \"Ohio\", \"South Dakota\", \"Wisconsin\"]\n",
    "south = [\"Alabama\", \"Arkansas\", \"Delaware\", \"District of Columbia\", \"Florida\", \"Georgia\", \"Kentucky\", \"Louisiana\", \"Maryland\", \"Mississippi\", \"North Carolina\", \"Oklahoma\", \"South Carolina\", \"Tennessee\", \"Texas\", \"Virginia\", \"West Virginia\"]\n",
    "west = [\"Alaska\", \"Arizona\", \"California\", \"Colorado\", \"Hawaii\", \"Idaho\", \"Montana\", \"Nevada\", \"New Mexico\", \"Oregon\", \"Utah\", \"Washington\", \"Wyoming\"]\n",
    "\n",
    "def add_region(df):\n",
    "    geographic_region = []\n",
    "    for state_name in df[\"State\"].unique():\n",
    "        if state_name in non_continental:\n",
    "            geographic_region += [\"Non-Continental\"]\n",
    "        elif state_name in northeast:\n",
    "            geographic_region += [\"Northeast\"]\n",
    "        elif state_name in midwest:\n",
    "            geographic_region += [\"Midwest\"]\n",
    "        elif state_name in south:\n",
    "            geographic_region += [\"South\"]\n",
    "        elif state_name in west:\n",
    "            geographic_region += [\"West\"]\n",
    "            \n",
    "    return geographic_region\n",
    "        \n",
    "\n",
    "model_states_df[\"Region\"] = add_region(model_states_df)\n"
   ]
  },
  {
   "cell_type": "code",
   "execution_count": 37,
   "id": "8a04c040",
   "metadata": {},
   "outputs": [
    {
     "data": {
      "text/html": [
       "<div>\n",
       "<style scoped>\n",
       "    .dataframe tbody tr th:only-of-type {\n",
       "        vertical-align: middle;\n",
       "    }\n",
       "\n",
       "    .dataframe tbody tr th {\n",
       "        vertical-align: top;\n",
       "    }\n",
       "\n",
       "    .dataframe thead th {\n",
       "        text-align: right;\n",
       "    }\n",
       "</style>\n",
       "<table border=\"1\" class=\"dataframe\">\n",
       "  <thead>\n",
       "    <tr style=\"text-align: right;\">\n",
       "      <th></th>\n",
       "      <th>State</th>\n",
       "      <th>State Code</th>\n",
       "      <th>Region</th>\n",
       "    </tr>\n",
       "  </thead>\n",
       "  <tbody>\n",
       "    <tr>\n",
       "      <th>0</th>\n",
       "      <td>Alabama</td>\n",
       "      <td>1.0</td>\n",
       "      <td>South</td>\n",
       "    </tr>\n",
       "    <tr>\n",
       "      <th>1</th>\n",
       "      <td>Alaska</td>\n",
       "      <td>2.0</td>\n",
       "      <td>West</td>\n",
       "    </tr>\n",
       "    <tr>\n",
       "      <th>2</th>\n",
       "      <td>Arizona</td>\n",
       "      <td>4.0</td>\n",
       "      <td>West</td>\n",
       "    </tr>\n",
       "    <tr>\n",
       "      <th>3</th>\n",
       "      <td>Arkansas</td>\n",
       "      <td>5.0</td>\n",
       "      <td>South</td>\n",
       "    </tr>\n",
       "    <tr>\n",
       "      <th>4</th>\n",
       "      <td>California</td>\n",
       "      <td>6.0</td>\n",
       "      <td>West</td>\n",
       "    </tr>\n",
       "  </tbody>\n",
       "</table>\n",
       "</div>"
      ],
      "text/plain": [
       "        State  State Code Region\n",
       "0     Alabama         1.0  South\n",
       "1      Alaska         2.0   West\n",
       "2     Arizona         4.0   West\n",
       "3    Arkansas         5.0  South\n",
       "4  California         6.0   West"
      ]
     },
     "execution_count": 37,
     "metadata": {},
     "output_type": "execute_result"
    }
   ],
   "source": [
    "model_states_df.head()"
   ]
  },
  {
   "cell_type": "markdown",
   "id": "b9c89f4c",
   "metadata": {},
   "source": [
    "We can also calculate the rate of hospitalizations per state:"
   ]
  },
  {
   "cell_type": "code",
   "execution_count": 38,
   "id": "08d2b08e",
   "metadata": {},
   "outputs": [
    {
     "data": {
      "text/plain": [
       "0           2020\n",
       "48          2020\n",
       "69          2021\n",
       "74          2021\n",
       "76          2021\n",
       "            ... \n",
       "23087287    2021\n",
       "23087416    2021\n",
       "23087594    2021\n",
       "23087724    2021\n",
       "23087904    2021\n",
       "Name: case_month, Length: 297983, dtype: object"
      ]
     },
     "execution_count": 38,
     "metadata": {},
     "output_type": "execute_result"
    }
   ],
   "source": [
    "s_df = covid_cases_df[covid_cases_df[\"state_fips_code\"] == 5.0]\n",
    "# access year a hospitalization occurred\n",
    "s_df[\"case_month\"].str[:4]"
   ]
  },
  {
   "cell_type": "code",
   "execution_count": 39,
   "id": "97cbaa0a",
   "metadata": {},
   "outputs": [],
   "source": [
    "h_rate_2020 = []\n",
    "h_rate_2021 = []\n",
    "hospitalizations_2020 = []\n",
    "hospitalizations_2021 = []\n",
    "\n",
    "# maybe use a pandas groupby\n",
    "for state_code in model_states_df[\"State Code\"].unique():\n",
    "    state_code_df = covid_cases_df[covid_cases_df[\"state_fips_code\"] == state_code]\n",
    "    state_code_df_2020 = state_code_df[state_code_df[\"case_month\"].str[:4] == \"2020\"]\n",
    "    state_code_df_2021 = state_code_df[state_code_df[\"case_month\"].str[:4] == \"2021\"]\n",
    "    \n",
    "    hosp_y_2020 = len(state_code_df_2020[state_code_df_2020[\"hosp_yn\"]==\"Yes\"])\n",
    "    hosp_n_2020 = len(state_code_df_2020[state_code_df_2020[\"hosp_yn\"]==\"No\"])\n",
    "#     hosp_unknown_2020 = len(state_code_df_2020[state_code_df_2020[\"hosp_yn\"]==\"Unknown\"])\n",
    "    if (hosp_n_2020 + hosp_y_2020) > 0:\n",
    "        h_rate_2020 += [hosp_y_2020 / (hosp_n_2020 + hosp_y_2020)]\n",
    "        hospitalizations_2020 += [hosp_y_2020]\n",
    "    else:\n",
    "        h_rate_2020 += [0]\n",
    "        hospitalizations_2020 += [0]\n",
    "        \n",
    "    hosp_y_2021 = len(state_code_df_2021[state_code_df_2021[\"hosp_yn\"]==\"Yes\"])\n",
    "    hosp_n_2021 = len(state_code_df_2021[state_code_df_2021[\"hosp_yn\"]==\"No\"])\n",
    "#     hosp_unknown_2021 = len(state_code_df_2021[state_code_df_2021[\"hosp_yn\"]==\"Unknown\"])\n",
    "    if (hosp_n_2021 + hosp_y_2021) > 0:\n",
    "        h_rate_2021 += [hosp_y_2021 / (hosp_n_2021 + hosp_y_2021)]\n",
    "        hospitalizations_2021 += [hosp_y_2021]\n",
    "    else:\n",
    "        h_rate_2021 += [0]\n",
    "        hospitalizations_2021 += [0]"
   ]
  },
  {
   "cell_type": "code",
   "execution_count": 40,
   "id": "b869c590",
   "metadata": {},
   "outputs": [
    {
     "data": {
      "text/plain": [
       "array(['2020-12', '2021-10', '2020-10', '2021-08', '2020-11', '2021-04',\n",
       "       '2021-09', '2021-01', '2020-09', '2020-07', '2021-02', '2020-06',\n",
       "       '2020-08', '2021-05', '2021-06', '2021-03', '2021-07', '2020-05',\n",
       "       '2020-04', '2020-03', '2020-02', '2020-01'], dtype=object)"
      ]
     },
     "execution_count": 40,
     "metadata": {},
     "output_type": "execute_result"
    }
   ],
   "source": [
    "covid_cases_df[\"case_month\"].unique()"
   ]
  },
  {
   "cell_type": "code",
   "execution_count": 41,
   "id": "90a7c85c",
   "metadata": {},
   "outputs": [
    {
     "data": {
      "text/html": [
       "<div>\n",
       "<style scoped>\n",
       "    .dataframe tbody tr th:only-of-type {\n",
       "        vertical-align: middle;\n",
       "    }\n",
       "\n",
       "    .dataframe tbody tr th {\n",
       "        vertical-align: top;\n",
       "    }\n",
       "\n",
       "    .dataframe thead th {\n",
       "        text-align: right;\n",
       "    }\n",
       "</style>\n",
       "<table border=\"1\" class=\"dataframe\">\n",
       "  <thead>\n",
       "    <tr style=\"text-align: right;\">\n",
       "      <th></th>\n",
       "      <th>State</th>\n",
       "      <th>State Code</th>\n",
       "      <th>Region</th>\n",
       "      <th>Hospitalizations 2020</th>\n",
       "      <th>Hospitalization Rate 2020</th>\n",
       "      <th>Hospitalizations 2021</th>\n",
       "      <th>Hospitalization Rate 2021</th>\n",
       "    </tr>\n",
       "  </thead>\n",
       "  <tbody>\n",
       "    <tr>\n",
       "      <th>0</th>\n",
       "      <td>Alabama</td>\n",
       "      <td>1.0</td>\n",
       "      <td>South</td>\n",
       "      <td>7708</td>\n",
       "      <td>0.075836</td>\n",
       "      <td>5646</td>\n",
       "      <td>0.075903</td>\n",
       "    </tr>\n",
       "    <tr>\n",
       "      <th>1</th>\n",
       "      <td>Alaska</td>\n",
       "      <td>2.0</td>\n",
       "      <td>West</td>\n",
       "      <td>885</td>\n",
       "      <td>0.246587</td>\n",
       "      <td>1279</td>\n",
       "      <td>0.220822</td>\n",
       "    </tr>\n",
       "    <tr>\n",
       "      <th>2</th>\n",
       "      <td>Arizona</td>\n",
       "      <td>4.0</td>\n",
       "      <td>West</td>\n",
       "      <td>54006</td>\n",
       "      <td>0.187311</td>\n",
       "      <td>37953</td>\n",
       "      <td>0.145523</td>\n",
       "    </tr>\n",
       "    <tr>\n",
       "      <th>3</th>\n",
       "      <td>Arkansas</td>\n",
       "      <td>5.0</td>\n",
       "      <td>South</td>\n",
       "      <td>9735</td>\n",
       "      <td>0.081084</td>\n",
       "      <td>9072</td>\n",
       "      <td>0.112238</td>\n",
       "    </tr>\n",
       "    <tr>\n",
       "      <th>4</th>\n",
       "      <td>California</td>\n",
       "      <td>6.0</td>\n",
       "      <td>West</td>\n",
       "      <td>149121</td>\n",
       "      <td>0.082321</td>\n",
       "      <td>100220</td>\n",
       "      <td>0.074207</td>\n",
       "    </tr>\n",
       "  </tbody>\n",
       "</table>\n",
       "</div>"
      ],
      "text/plain": [
       "        State  State Code Region  Hospitalizations 2020  \\\n",
       "0     Alabama         1.0  South                   7708   \n",
       "1      Alaska         2.0   West                    885   \n",
       "2     Arizona         4.0   West                  54006   \n",
       "3    Arkansas         5.0  South                   9735   \n",
       "4  California         6.0   West                 149121   \n",
       "\n",
       "   Hospitalization Rate 2020  Hospitalizations 2021  Hospitalization Rate 2021  \n",
       "0                   0.075836                   5646                   0.075903  \n",
       "1                   0.246587                   1279                   0.220822  \n",
       "2                   0.187311                  37953                   0.145523  \n",
       "3                   0.081084                   9072                   0.112238  \n",
       "4                   0.082321                 100220                   0.074207  "
      ]
     },
     "execution_count": 41,
     "metadata": {},
     "output_type": "execute_result"
    }
   ],
   "source": [
    "model_states_df[\"Hospitalizations 2020\"] = hospitalizations_2020\n",
    "model_states_df[\"Hospitalization Rate 2020\"] = h_rate_2020\n",
    "\n",
    "model_states_df[\"Hospitalizations 2021\"] = hospitalizations_2021\n",
    "model_states_df[\"Hospitalization Rate 2021\"] = h_rate_2021\n",
    "\n",
    "# sanity checks, like checking if the number we're getting line up\n",
    "# with calculating it ourselves\n",
    "\n",
    "model_states_df.head()"
   ]
  },
  {
   "cell_type": "markdown",
   "id": "d5570f14",
   "metadata": {},
   "source": [
    "Here we'll calculate the mean AQI for each state:"
   ]
  },
  {
   "cell_type": "code",
   "execution_count": 42,
   "id": "c9469b8e",
   "metadata": {},
   "outputs": [],
   "source": [
    "# now we'll get the average aqi index per state for each year: 2019, 2020, and 2021.\n",
    "def calculate_aqi_stats(df):\n",
    "    mean_aqi = []\n",
    "    total_aqi = []\n",
    "    number_reports = []\n",
    "    # make sure the stats are in the correct order of states\n",
    "    for state_code in model_states_df[\"State Code\"].unique():\n",
    "        aqi = 0\n",
    "        reports = 0\n",
    "        for i in range(len(df)):\n",
    "            if df[\"State Code\"].iloc[i] == state_code:\n",
    "                aqi += df[\"AQI\"].iloc[i]\n",
    "                reports += 1\n",
    "        mean_aqi += [round(aqi / reports, 2)]\n",
    "        total_aqi += [aqi]\n",
    "        number_reports += [reports]\n",
    "    \n",
    "    return [mean_aqi, total_aqi, number_reports]\n",
    "\n",
    "#2019\n",
    "[mean_aqi_2019, total_aqi_2019, number_reports_2019] = calculate_aqi_stats(aqi_2019_df)\n",
    "aqi_stats_2019 = [mean_aqi_2019, total_aqi_2019, number_reports_2019]\n",
    "\n",
    "#2020\n",
    "[mean_aqi_2020, total_aqi_2020, number_reports_2020] = calculate_aqi_stats(aqi_2020_df)\n",
    "aqi_stats_2020 = [mean_aqi_2020, total_aqi_2020, number_reports_2020]\n",
    "\n",
    "#2021\n",
    "[mean_aqi_2021, total_aqi_2021, number_reports_2021] = calculate_aqi_stats(aqi_2021_df)\n",
    "aqi_stats_2021 = [mean_aqi_2021, total_aqi_2021, number_reports_2021]"
   ]
  },
  {
   "cell_type": "code",
   "execution_count": 43,
   "id": "3ec921df",
   "metadata": {},
   "outputs": [
    {
     "data": {
      "text/html": [
       "<div>\n",
       "<style scoped>\n",
       "    .dataframe tbody tr th:only-of-type {\n",
       "        vertical-align: middle;\n",
       "    }\n",
       "\n",
       "    .dataframe tbody tr th {\n",
       "        vertical-align: top;\n",
       "    }\n",
       "\n",
       "    .dataframe thead th {\n",
       "        text-align: right;\n",
       "    }\n",
       "</style>\n",
       "<table border=\"1\" class=\"dataframe\">\n",
       "  <thead>\n",
       "    <tr style=\"text-align: right;\">\n",
       "      <th></th>\n",
       "      <th>State</th>\n",
       "      <th>State Code</th>\n",
       "      <th>Region</th>\n",
       "      <th>Hospitalizations 2020</th>\n",
       "      <th>Hospitalization Rate 2020</th>\n",
       "      <th>Hospitalizations 2021</th>\n",
       "      <th>Hospitalization Rate 2021</th>\n",
       "      <th>2019 Mean AQI per State</th>\n",
       "      <th>2020 Mean AQI per State</th>\n",
       "      <th>2021 Mean AQI per State</th>\n",
       "      <th>2019 Total AQI per State</th>\n",
       "      <th>2020 Total AQI per State</th>\n",
       "      <th>2021 Total AQI per State</th>\n",
       "      <th>2019 Number of Reports per State</th>\n",
       "      <th>2020 Number of Reports per State</th>\n",
       "      <th>2021 Number of Reports per State</th>\n",
       "    </tr>\n",
       "  </thead>\n",
       "  <tbody>\n",
       "    <tr>\n",
       "      <th>0</th>\n",
       "      <td>Alabama</td>\n",
       "      <td>1.0</td>\n",
       "      <td>South</td>\n",
       "      <td>7708</td>\n",
       "      <td>0.075836</td>\n",
       "      <td>5646</td>\n",
       "      <td>0.075903</td>\n",
       "      <td>40.34</td>\n",
       "      <td>37.39</td>\n",
       "      <td>38.39</td>\n",
       "      <td>199061</td>\n",
       "      <td>162250</td>\n",
       "      <td>111483</td>\n",
       "      <td>4934</td>\n",
       "      <td>4339</td>\n",
       "      <td>2904</td>\n",
       "    </tr>\n",
       "    <tr>\n",
       "      <th>1</th>\n",
       "      <td>Alaska</td>\n",
       "      <td>2.0</td>\n",
       "      <td>West</td>\n",
       "      <td>885</td>\n",
       "      <td>0.246587</td>\n",
       "      <td>1279</td>\n",
       "      <td>0.220822</td>\n",
       "      <td>29.31</td>\n",
       "      <td>24.31</td>\n",
       "      <td>30.19</td>\n",
       "      <td>72652</td>\n",
       "      <td>56685</td>\n",
       "      <td>29772</td>\n",
       "      <td>2479</td>\n",
       "      <td>2332</td>\n",
       "      <td>986</td>\n",
       "    </tr>\n",
       "    <tr>\n",
       "      <th>2</th>\n",
       "      <td>Arizona</td>\n",
       "      <td>4.0</td>\n",
       "      <td>West</td>\n",
       "      <td>54006</td>\n",
       "      <td>0.187311</td>\n",
       "      <td>37953</td>\n",
       "      <td>0.145523</td>\n",
       "      <td>45.69</td>\n",
       "      <td>51.79</td>\n",
       "      <td>52.07</td>\n",
       "      <td>215999</td>\n",
       "      <td>243761</td>\n",
       "      <td>183928</td>\n",
       "      <td>4727</td>\n",
       "      <td>4707</td>\n",
       "      <td>3532</td>\n",
       "    </tr>\n",
       "    <tr>\n",
       "      <th>3</th>\n",
       "      <td>Arkansas</td>\n",
       "      <td>5.0</td>\n",
       "      <td>South</td>\n",
       "      <td>9735</td>\n",
       "      <td>0.081084</td>\n",
       "      <td>9072</td>\n",
       "      <td>0.112238</td>\n",
       "      <td>38.53</td>\n",
       "      <td>36.09</td>\n",
       "      <td>40.13</td>\n",
       "      <td>118967</td>\n",
       "      <td>99891</td>\n",
       "      <td>82227</td>\n",
       "      <td>3088</td>\n",
       "      <td>2768</td>\n",
       "      <td>2049</td>\n",
       "    </tr>\n",
       "    <tr>\n",
       "      <th>4</th>\n",
       "      <td>California</td>\n",
       "      <td>6.0</td>\n",
       "      <td>West</td>\n",
       "      <td>149121</td>\n",
       "      <td>0.082321</td>\n",
       "      <td>100220</td>\n",
       "      <td>0.074207</td>\n",
       "      <td>49.62</td>\n",
       "      <td>58.12</td>\n",
       "      <td>52.29</td>\n",
       "      <td>945900</td>\n",
       "      <td>1119144</td>\n",
       "      <td>602961</td>\n",
       "      <td>19063</td>\n",
       "      <td>19255</td>\n",
       "      <td>11531</td>\n",
       "    </tr>\n",
       "  </tbody>\n",
       "</table>\n",
       "</div>"
      ],
      "text/plain": [
       "        State  State Code Region  Hospitalizations 2020  \\\n",
       "0     Alabama         1.0  South                   7708   \n",
       "1      Alaska         2.0   West                    885   \n",
       "2     Arizona         4.0   West                  54006   \n",
       "3    Arkansas         5.0  South                   9735   \n",
       "4  California         6.0   West                 149121   \n",
       "\n",
       "   Hospitalization Rate 2020  Hospitalizations 2021  \\\n",
       "0                   0.075836                   5646   \n",
       "1                   0.246587                   1279   \n",
       "2                   0.187311                  37953   \n",
       "3                   0.081084                   9072   \n",
       "4                   0.082321                 100220   \n",
       "\n",
       "   Hospitalization Rate 2021  2019 Mean AQI per State  \\\n",
       "0                   0.075903                    40.34   \n",
       "1                   0.220822                    29.31   \n",
       "2                   0.145523                    45.69   \n",
       "3                   0.112238                    38.53   \n",
       "4                   0.074207                    49.62   \n",
       "\n",
       "   2020 Mean AQI per State  2021 Mean AQI per State  2019 Total AQI per State  \\\n",
       "0                    37.39                    38.39                    199061   \n",
       "1                    24.31                    30.19                     72652   \n",
       "2                    51.79                    52.07                    215999   \n",
       "3                    36.09                    40.13                    118967   \n",
       "4                    58.12                    52.29                    945900   \n",
       "\n",
       "   2020 Total AQI per State  2021 Total AQI per State  \\\n",
       "0                    162250                    111483   \n",
       "1                     56685                     29772   \n",
       "2                    243761                    183928   \n",
       "3                     99891                     82227   \n",
       "4                   1119144                    602961   \n",
       "\n",
       "   2019 Number of Reports per State  2020 Number of Reports per State  \\\n",
       "0                              4934                              4339   \n",
       "1                              2479                              2332   \n",
       "2                              4727                              4707   \n",
       "3                              3088                              2768   \n",
       "4                             19063                             19255   \n",
       "\n",
       "   2021 Number of Reports per State  \n",
       "0                              2904  \n",
       "1                               986  \n",
       "2                              3532  \n",
       "3                              2049  \n",
       "4                             11531  "
      ]
     },
     "execution_count": 43,
     "metadata": {},
     "output_type": "execute_result"
    }
   ],
   "source": [
    "model_states_df[\"2019 Mean AQI per State\"] = aqi_stats_2019[0]\n",
    "model_states_df[\"2020 Mean AQI per State\"] = aqi_stats_2020[0]\n",
    "model_states_df[\"2021 Mean AQI per State\"] = aqi_stats_2021[0]\n",
    "\n",
    "model_states_df[\"2019 Total AQI per State\"] = aqi_stats_2019[1]\n",
    "model_states_df[\"2020 Total AQI per State\"] = aqi_stats_2020[1]\n",
    "model_states_df[\"2021 Total AQI per State\"] = aqi_stats_2021[1]\n",
    "\n",
    "model_states_df[\"2019 Number of Reports per State\"] = aqi_stats_2019[2]\n",
    "model_states_df[\"2020 Number of Reports per State\"] = aqi_stats_2020[2]\n",
    "model_states_df[\"2021 Number of Reports per State\"] = aqi_stats_2021[2]\n",
    "\n",
    "model_states_df.head()"
   ]
  },
  {
   "cell_type": "markdown",
   "id": "c22a5222",
   "metadata": {},
   "source": [
    "## III: Data Modeling ##"
   ]
  },
  {
   "cell_type": "markdown",
   "id": "67ac18ef",
   "metadata": {},
   "source": [
    "**Section III.i:**"
   ]
  },
  {
   "cell_type": "markdown",
   "id": "9216d87c",
   "metadata": {},
   "source": [
    "**Question 1:**\n",
    "- Did the lockdown result in a noticable improvement in air quality? Most notably in what regions?"
   ]
  },
  {
   "cell_type": "markdown",
   "id": "7042d8c2",
   "metadata": {},
   "source": [
    "We'll calculate the change from:\n",
    "- January 1st, 2019 - March 12th, 2020 (437 days) and March 12th, 2020 to May 24th, 2021 (437 days), calculated from https://www.timeanddate.com/\n",
    "\n",
    "There could be seasonal changes for some states that affect air quality, like wildfires in California in the Summer.\n",
    "\n",
    "Another thing that could affect air quality is smog or other particulates spreading over to other places across the country."
   ]
  },
  {
   "cell_type": "code",
   "execution_count": 44,
   "id": "59f6c678",
   "metadata": {},
   "outputs": [
    {
     "data": {
      "text/html": [
       "<div>\n",
       "<style scoped>\n",
       "    .dataframe tbody tr th:only-of-type {\n",
       "        vertical-align: middle;\n",
       "    }\n",
       "\n",
       "    .dataframe tbody tr th {\n",
       "        vertical-align: top;\n",
       "    }\n",
       "\n",
       "    .dataframe thead th {\n",
       "        text-align: right;\n",
       "    }\n",
       "</style>\n",
       "<table border=\"1\" class=\"dataframe\">\n",
       "  <thead>\n",
       "    <tr style=\"text-align: right;\">\n",
       "      <th></th>\n",
       "      <th>State Name</th>\n",
       "      <th>county Name</th>\n",
       "      <th>State Code</th>\n",
       "      <th>Date</th>\n",
       "      <th>AQI</th>\n",
       "      <th>Category</th>\n",
       "      <th>Defining Parameter</th>\n",
       "    </tr>\n",
       "  </thead>\n",
       "  <tbody>\n",
       "    <tr>\n",
       "      <th>0</th>\n",
       "      <td>Alabama</td>\n",
       "      <td>Baldwin</td>\n",
       "      <td>1</td>\n",
       "      <td>2020-01-01</td>\n",
       "      <td>48</td>\n",
       "      <td>Good</td>\n",
       "      <td>PM2.5</td>\n",
       "    </tr>\n",
       "    <tr>\n",
       "      <th>1</th>\n",
       "      <td>Alabama</td>\n",
       "      <td>Baldwin</td>\n",
       "      <td>1</td>\n",
       "      <td>2020-01-04</td>\n",
       "      <td>13</td>\n",
       "      <td>Good</td>\n",
       "      <td>PM2.5</td>\n",
       "    </tr>\n",
       "    <tr>\n",
       "      <th>2</th>\n",
       "      <td>Alabama</td>\n",
       "      <td>Baldwin</td>\n",
       "      <td>1</td>\n",
       "      <td>2020-01-07</td>\n",
       "      <td>14</td>\n",
       "      <td>Good</td>\n",
       "      <td>PM2.5</td>\n",
       "    </tr>\n",
       "    <tr>\n",
       "      <th>3</th>\n",
       "      <td>Alabama</td>\n",
       "      <td>Baldwin</td>\n",
       "      <td>1</td>\n",
       "      <td>2020-01-10</td>\n",
       "      <td>39</td>\n",
       "      <td>Good</td>\n",
       "      <td>PM2.5</td>\n",
       "    </tr>\n",
       "    <tr>\n",
       "      <th>4</th>\n",
       "      <td>Alabama</td>\n",
       "      <td>Baldwin</td>\n",
       "      <td>1</td>\n",
       "      <td>2020-01-13</td>\n",
       "      <td>29</td>\n",
       "      <td>Good</td>\n",
       "      <td>PM2.5</td>\n",
       "    </tr>\n",
       "  </tbody>\n",
       "</table>\n",
       "</div>"
      ],
      "text/plain": [
       "  State Name county Name  State Code        Date  AQI Category  \\\n",
       "0    Alabama     Baldwin           1  2020-01-01   48     Good   \n",
       "1    Alabama     Baldwin           1  2020-01-04   13     Good   \n",
       "2    Alabama     Baldwin           1  2020-01-07   14     Good   \n",
       "3    Alabama     Baldwin           1  2020-01-10   39     Good   \n",
       "4    Alabama     Baldwin           1  2020-01-13   29     Good   \n",
       "\n",
       "  Defining Parameter  \n",
       "0              PM2.5  \n",
       "1              PM2.5  \n",
       "2              PM2.5  \n",
       "3              PM2.5  \n",
       "4              PM2.5  "
      ]
     },
     "execution_count": 44,
     "metadata": {},
     "output_type": "execute_result"
    }
   ],
   "source": [
    "# get all of the values before emergency date\n",
    "pre_lockdown_df = pd.concat([aqi_2020_df[aqi_2020_df[\"Date\"]<\"2020-03-13\"], aqi_2019_df])\n",
    "pre_lockdown_df.head()"
   ]
  },
  {
   "cell_type": "code",
   "execution_count": 45,
   "id": "78c58e04",
   "metadata": {},
   "outputs": [
    {
     "data": {
      "text/html": [
       "<div>\n",
       "<style scoped>\n",
       "    .dataframe tbody tr th:only-of-type {\n",
       "        vertical-align: middle;\n",
       "    }\n",
       "\n",
       "    .dataframe tbody tr th {\n",
       "        vertical-align: top;\n",
       "    }\n",
       "\n",
       "    .dataframe thead th {\n",
       "        text-align: right;\n",
       "    }\n",
       "</style>\n",
       "<table border=\"1\" class=\"dataframe\">\n",
       "  <thead>\n",
       "    <tr style=\"text-align: right;\">\n",
       "      <th></th>\n",
       "      <th>State</th>\n",
       "      <th>State Code</th>\n",
       "      <th>Region</th>\n",
       "      <th>Hospitalizations 2020</th>\n",
       "      <th>Hospitalization Rate 2020</th>\n",
       "      <th>Hospitalizations 2021</th>\n",
       "      <th>Hospitalization Rate 2021</th>\n",
       "      <th>2019 Mean AQI per State</th>\n",
       "      <th>2020 Mean AQI per State</th>\n",
       "      <th>2021 Mean AQI per State</th>\n",
       "      <th>2019 Total AQI per State</th>\n",
       "      <th>2020 Total AQI per State</th>\n",
       "      <th>2021 Total AQI per State</th>\n",
       "      <th>2019 Number of Reports per State</th>\n",
       "      <th>2020 Number of Reports per State</th>\n",
       "      <th>2021 Number of Reports per State</th>\n",
       "      <th>Pre-Lockdown Mean AQI</th>\n",
       "    </tr>\n",
       "  </thead>\n",
       "  <tbody>\n",
       "    <tr>\n",
       "      <th>0</th>\n",
       "      <td>Alabama</td>\n",
       "      <td>1.0</td>\n",
       "      <td>South</td>\n",
       "      <td>7708</td>\n",
       "      <td>0.075836</td>\n",
       "      <td>5646</td>\n",
       "      <td>0.075903</td>\n",
       "      <td>40.34</td>\n",
       "      <td>37.39</td>\n",
       "      <td>38.39</td>\n",
       "      <td>199061</td>\n",
       "      <td>162250</td>\n",
       "      <td>111483</td>\n",
       "      <td>4934</td>\n",
       "      <td>4339</td>\n",
       "      <td>2904</td>\n",
       "      <td>39.15</td>\n",
       "    </tr>\n",
       "    <tr>\n",
       "      <th>1</th>\n",
       "      <td>Alaska</td>\n",
       "      <td>2.0</td>\n",
       "      <td>West</td>\n",
       "      <td>885</td>\n",
       "      <td>0.246587</td>\n",
       "      <td>1279</td>\n",
       "      <td>0.220822</td>\n",
       "      <td>29.31</td>\n",
       "      <td>24.31</td>\n",
       "      <td>30.19</td>\n",
       "      <td>72652</td>\n",
       "      <td>56685</td>\n",
       "      <td>29772</td>\n",
       "      <td>2479</td>\n",
       "      <td>2332</td>\n",
       "      <td>986</td>\n",
       "      <td>29.51</td>\n",
       "    </tr>\n",
       "    <tr>\n",
       "      <th>2</th>\n",
       "      <td>Arizona</td>\n",
       "      <td>4.0</td>\n",
       "      <td>West</td>\n",
       "      <td>54006</td>\n",
       "      <td>0.187311</td>\n",
       "      <td>37953</td>\n",
       "      <td>0.145523</td>\n",
       "      <td>45.69</td>\n",
       "      <td>51.79</td>\n",
       "      <td>52.07</td>\n",
       "      <td>215999</td>\n",
       "      <td>243761</td>\n",
       "      <td>183928</td>\n",
       "      <td>4727</td>\n",
       "      <td>4707</td>\n",
       "      <td>3532</td>\n",
       "      <td>45.08</td>\n",
       "    </tr>\n",
       "    <tr>\n",
       "      <th>3</th>\n",
       "      <td>Arkansas</td>\n",
       "      <td>5.0</td>\n",
       "      <td>South</td>\n",
       "      <td>9735</td>\n",
       "      <td>0.081084</td>\n",
       "      <td>9072</td>\n",
       "      <td>0.112238</td>\n",
       "      <td>38.53</td>\n",
       "      <td>36.09</td>\n",
       "      <td>40.13</td>\n",
       "      <td>118967</td>\n",
       "      <td>99891</td>\n",
       "      <td>82227</td>\n",
       "      <td>3088</td>\n",
       "      <td>2768</td>\n",
       "      <td>2049</td>\n",
       "      <td>37.50</td>\n",
       "    </tr>\n",
       "    <tr>\n",
       "      <th>4</th>\n",
       "      <td>California</td>\n",
       "      <td>6.0</td>\n",
       "      <td>West</td>\n",
       "      <td>149121</td>\n",
       "      <td>0.082321</td>\n",
       "      <td>100220</td>\n",
       "      <td>0.074207</td>\n",
       "      <td>49.62</td>\n",
       "      <td>58.12</td>\n",
       "      <td>52.29</td>\n",
       "      <td>945900</td>\n",
       "      <td>1119144</td>\n",
       "      <td>602961</td>\n",
       "      <td>19063</td>\n",
       "      <td>19255</td>\n",
       "      <td>11531</td>\n",
       "      <td>48.94</td>\n",
       "    </tr>\n",
       "  </tbody>\n",
       "</table>\n",
       "</div>"
      ],
      "text/plain": [
       "        State  State Code Region  Hospitalizations 2020  \\\n",
       "0     Alabama         1.0  South                   7708   \n",
       "1      Alaska         2.0   West                    885   \n",
       "2     Arizona         4.0   West                  54006   \n",
       "3    Arkansas         5.0  South                   9735   \n",
       "4  California         6.0   West                 149121   \n",
       "\n",
       "   Hospitalization Rate 2020  Hospitalizations 2021  \\\n",
       "0                   0.075836                   5646   \n",
       "1                   0.246587                   1279   \n",
       "2                   0.187311                  37953   \n",
       "3                   0.081084                   9072   \n",
       "4                   0.082321                 100220   \n",
       "\n",
       "   Hospitalization Rate 2021  2019 Mean AQI per State  \\\n",
       "0                   0.075903                    40.34   \n",
       "1                   0.220822                    29.31   \n",
       "2                   0.145523                    45.69   \n",
       "3                   0.112238                    38.53   \n",
       "4                   0.074207                    49.62   \n",
       "\n",
       "   2020 Mean AQI per State  2021 Mean AQI per State  2019 Total AQI per State  \\\n",
       "0                    37.39                    38.39                    199061   \n",
       "1                    24.31                    30.19                     72652   \n",
       "2                    51.79                    52.07                    215999   \n",
       "3                    36.09                    40.13                    118967   \n",
       "4                    58.12                    52.29                    945900   \n",
       "\n",
       "   2020 Total AQI per State  2021 Total AQI per State  \\\n",
       "0                    162250                    111483   \n",
       "1                     56685                     29772   \n",
       "2                    243761                    183928   \n",
       "3                     99891                     82227   \n",
       "4                   1119144                    602961   \n",
       "\n",
       "   2019 Number of Reports per State  2020 Number of Reports per State  \\\n",
       "0                              4934                              4339   \n",
       "1                              2479                              2332   \n",
       "2                              4727                              4707   \n",
       "3                              3088                              2768   \n",
       "4                             19063                             19255   \n",
       "\n",
       "   2021 Number of Reports per State  Pre-Lockdown Mean AQI  \n",
       "0                              2904                  39.15  \n",
       "1                               986                  29.51  \n",
       "2                              3532                  45.08  \n",
       "3                              2049                  37.50  \n",
       "4                             11531                  48.94  "
      ]
     },
     "execution_count": 45,
     "metadata": {},
     "output_type": "execute_result"
    }
   ],
   "source": [
    "pre_lockdown_mean_aqi = calculate_aqi_stats(pre_lockdown_df)[0]\n",
    "model_states_df[\"Pre-Lockdown Mean AQI\"] = pre_lockdown_mean_aqi\n",
    "model_states_df.head()"
   ]
  },
  {
   "cell_type": "code",
   "execution_count": 46,
   "id": "78c46889",
   "metadata": {},
   "outputs": [
    {
     "data": {
      "text/html": [
       "<div>\n",
       "<style scoped>\n",
       "    .dataframe tbody tr th:only-of-type {\n",
       "        vertical-align: middle;\n",
       "    }\n",
       "\n",
       "    .dataframe tbody tr th {\n",
       "        vertical-align: top;\n",
       "    }\n",
       "\n",
       "    .dataframe thead th {\n",
       "        text-align: right;\n",
       "    }\n",
       "</style>\n",
       "<table border=\"1\" class=\"dataframe\">\n",
       "  <thead>\n",
       "    <tr style=\"text-align: right;\">\n",
       "      <th></th>\n",
       "      <th>State</th>\n",
       "      <th>State Code</th>\n",
       "      <th>Region</th>\n",
       "      <th>Hospitalizations 2020</th>\n",
       "      <th>Hospitalization Rate 2020</th>\n",
       "      <th>Hospitalizations 2021</th>\n",
       "      <th>Hospitalization Rate 2021</th>\n",
       "      <th>2019 Mean AQI per State</th>\n",
       "      <th>2020 Mean AQI per State</th>\n",
       "      <th>2021 Mean AQI per State</th>\n",
       "      <th>2019 Total AQI per State</th>\n",
       "      <th>2020 Total AQI per State</th>\n",
       "      <th>2021 Total AQI per State</th>\n",
       "      <th>2019 Number of Reports per State</th>\n",
       "      <th>2020 Number of Reports per State</th>\n",
       "      <th>2021 Number of Reports per State</th>\n",
       "      <th>Pre-Lockdown Mean AQI</th>\n",
       "      <th>Post-Lockdown Mean AQI</th>\n",
       "    </tr>\n",
       "  </thead>\n",
       "  <tbody>\n",
       "    <tr>\n",
       "      <th>0</th>\n",
       "      <td>Alabama</td>\n",
       "      <td>1.0</td>\n",
       "      <td>South</td>\n",
       "      <td>7708</td>\n",
       "      <td>0.075836</td>\n",
       "      <td>5646</td>\n",
       "      <td>0.075903</td>\n",
       "      <td>40.34</td>\n",
       "      <td>37.39</td>\n",
       "      <td>38.39</td>\n",
       "      <td>199061</td>\n",
       "      <td>162250</td>\n",
       "      <td>111483</td>\n",
       "      <td>4934</td>\n",
       "      <td>4339</td>\n",
       "      <td>2904</td>\n",
       "      <td>39.15</td>\n",
       "      <td>39.10</td>\n",
       "    </tr>\n",
       "    <tr>\n",
       "      <th>1</th>\n",
       "      <td>Alaska</td>\n",
       "      <td>2.0</td>\n",
       "      <td>West</td>\n",
       "      <td>885</td>\n",
       "      <td>0.246587</td>\n",
       "      <td>1279</td>\n",
       "      <td>0.220822</td>\n",
       "      <td>29.31</td>\n",
       "      <td>24.31</td>\n",
       "      <td>30.19</td>\n",
       "      <td>72652</td>\n",
       "      <td>56685</td>\n",
       "      <td>29772</td>\n",
       "      <td>2479</td>\n",
       "      <td>2332</td>\n",
       "      <td>986</td>\n",
       "      <td>29.51</td>\n",
       "      <td>25.61</td>\n",
       "    </tr>\n",
       "    <tr>\n",
       "      <th>2</th>\n",
       "      <td>Arizona</td>\n",
       "      <td>4.0</td>\n",
       "      <td>West</td>\n",
       "      <td>54006</td>\n",
       "      <td>0.187311</td>\n",
       "      <td>37953</td>\n",
       "      <td>0.145523</td>\n",
       "      <td>45.69</td>\n",
       "      <td>51.79</td>\n",
       "      <td>52.07</td>\n",
       "      <td>215999</td>\n",
       "      <td>243761</td>\n",
       "      <td>183928</td>\n",
       "      <td>4727</td>\n",
       "      <td>4707</td>\n",
       "      <td>3532</td>\n",
       "      <td>45.08</td>\n",
       "      <td>53.72</td>\n",
       "    </tr>\n",
       "    <tr>\n",
       "      <th>3</th>\n",
       "      <td>Arkansas</td>\n",
       "      <td>5.0</td>\n",
       "      <td>South</td>\n",
       "      <td>9735</td>\n",
       "      <td>0.081084</td>\n",
       "      <td>9072</td>\n",
       "      <td>0.112238</td>\n",
       "      <td>38.53</td>\n",
       "      <td>36.09</td>\n",
       "      <td>40.13</td>\n",
       "      <td>118967</td>\n",
       "      <td>99891</td>\n",
       "      <td>82227</td>\n",
       "      <td>3088</td>\n",
       "      <td>2768</td>\n",
       "      <td>2049</td>\n",
       "      <td>37.50</td>\n",
       "      <td>37.13</td>\n",
       "    </tr>\n",
       "    <tr>\n",
       "      <th>4</th>\n",
       "      <td>California</td>\n",
       "      <td>6.0</td>\n",
       "      <td>West</td>\n",
       "      <td>149121</td>\n",
       "      <td>0.082321</td>\n",
       "      <td>100220</td>\n",
       "      <td>0.074207</td>\n",
       "      <td>49.62</td>\n",
       "      <td>58.12</td>\n",
       "      <td>52.29</td>\n",
       "      <td>945900</td>\n",
       "      <td>1119144</td>\n",
       "      <td>602961</td>\n",
       "      <td>19063</td>\n",
       "      <td>19255</td>\n",
       "      <td>11531</td>\n",
       "      <td>48.94</td>\n",
       "      <td>56.75</td>\n",
       "    </tr>\n",
       "  </tbody>\n",
       "</table>\n",
       "</div>"
      ],
      "text/plain": [
       "        State  State Code Region  Hospitalizations 2020  \\\n",
       "0     Alabama         1.0  South                   7708   \n",
       "1      Alaska         2.0   West                    885   \n",
       "2     Arizona         4.0   West                  54006   \n",
       "3    Arkansas         5.0  South                   9735   \n",
       "4  California         6.0   West                 149121   \n",
       "\n",
       "   Hospitalization Rate 2020  Hospitalizations 2021  \\\n",
       "0                   0.075836                   5646   \n",
       "1                   0.246587                   1279   \n",
       "2                   0.187311                  37953   \n",
       "3                   0.081084                   9072   \n",
       "4                   0.082321                 100220   \n",
       "\n",
       "   Hospitalization Rate 2021  2019 Mean AQI per State  \\\n",
       "0                   0.075903                    40.34   \n",
       "1                   0.220822                    29.31   \n",
       "2                   0.145523                    45.69   \n",
       "3                   0.112238                    38.53   \n",
       "4                   0.074207                    49.62   \n",
       "\n",
       "   2020 Mean AQI per State  2021 Mean AQI per State  2019 Total AQI per State  \\\n",
       "0                    37.39                    38.39                    199061   \n",
       "1                    24.31                    30.19                     72652   \n",
       "2                    51.79                    52.07                    215999   \n",
       "3                    36.09                    40.13                    118967   \n",
       "4                    58.12                    52.29                    945900   \n",
       "\n",
       "   2020 Total AQI per State  2021 Total AQI per State  \\\n",
       "0                    162250                    111483   \n",
       "1                     56685                     29772   \n",
       "2                    243761                    183928   \n",
       "3                     99891                     82227   \n",
       "4                   1119144                    602961   \n",
       "\n",
       "   2019 Number of Reports per State  2020 Number of Reports per State  \\\n",
       "0                              4934                              4339   \n",
       "1                              2479                              2332   \n",
       "2                              4727                              4707   \n",
       "3                              3088                              2768   \n",
       "4                             19063                             19255   \n",
       "\n",
       "   2021 Number of Reports per State  Pre-Lockdown Mean AQI  \\\n",
       "0                              2904                  39.15   \n",
       "1                               986                  29.51   \n",
       "2                              3532                  45.08   \n",
       "3                              2049                  37.50   \n",
       "4                             11531                  48.94   \n",
       "\n",
       "   Post-Lockdown Mean AQI  \n",
       "0                   39.10  \n",
       "1                   25.61  \n",
       "2                   53.72  \n",
       "3                   37.13  \n",
       "4                   56.75  "
      ]
     },
     "execution_count": 46,
     "metadata": {},
     "output_type": "execute_result"
    }
   ],
   "source": [
    "post_lockdown_df = pd.concat([aqi_2020_df[aqi_2020_df[\"Date\"]>=\"2020-03-13\"], aqi_2021_df[aqi_2021_df[\"Date\"]<=\"2021-05-24\"]])\n",
    "post_lockdown_mean_aqi = calculate_aqi_stats(post_lockdown_df)[0]\n",
    "model_states_df[\"Post-Lockdown Mean AQI\"] = post_lockdown_mean_aqi\n",
    "model_states_df.head()"
   ]
  },
  {
   "cell_type": "code",
   "execution_count": 47,
   "id": "7ff19505",
   "metadata": {},
   "outputs": [
    {
     "data": {
      "image/png": "[encoded data removed]",
      "text/plain": [
       "<Figure size 640x480 with 1 Axes>"
      ]
     },
     "metadata": {},
     "output_type": "display_data"
    }
   ],
   "source": [
    "# by state\n",
    "model_states_df[\"Difference in AQI: Post - Pre Lockdown\"] = model_states_df[\"Post-Lockdown Mean AQI\"] - model_states_df[\"Pre-Lockdown Mean AQI\"]\n",
    "my_plot = sns.barplot(data=model_states_df, y=\"Difference in AQI: Post - Pre Lockdown\", x=\"State\")\n",
    "plt.title(\"Difference in AQI Before and After Lockdown per State\")\n",
    "plt.xticks(rotation=90, fontsize=8)\n",
    "plt.show()"
   ]
  },
  {
   "cell_type": "code",
   "execution_count": 48,
   "id": "bd78dd87",
   "metadata": {},
   "outputs": [
    {
     "data": {
      "image/png": "[encoded data removed]",
      "text/plain": [
       "<Figure size 640x480 with 1 Axes>"
      ]
     },
     "metadata": {},
     "output_type": "display_data"
    }
   ],
   "source": [
    "# by region\n",
    "model_states_df[\"Difference in AQI: Post - Pre Lockdown\"] = model_states_df[\"Post-Lockdown Mean AQI\"] - model_states_df[\"Pre-Lockdown Mean AQI\"]\n",
    "my_plot = sns.barplot(data=model_states_df, y=\"Difference in AQI: Post - Pre Lockdown\", x=\"Region\")\n",
    "plt.title(\"Difference in AQI Before and After Lockdown per Region\")\n",
    "plt.xticks(rotation=90, fontsize=8)\n",
    "plt.show()"
   ]
  },
  {
   "cell_type": "markdown",
   "id": "0178a9b4",
   "metadata": {},
   "source": [
    "It's hard to see if there truly is a difference in air quality before and after the pandemic for each state. We'll see if the data is normally distributed to see what statistical test we are going to use:"
   ]
  },
  {
   "cell_type": "code",
   "execution_count": 49,
   "id": "b66d3f83",
   "metadata": {},
   "outputs": [
    {
     "data": {
      "image/png": "[encoded data removed]",
      "text/plain": [
       "<Figure size 640x480 with 1 Axes>"
      ]
     },
     "metadata": {},
     "output_type": "display_data"
    }
   ],
   "source": [
    "pre_lockdown_histplot = sns.histplot(data=model_states_df, x=\"Pre-Lockdown Mean AQI\")\n",
    "plt.show()"
   ]
  },
  {
   "cell_type": "code",
   "execution_count": 50,
   "id": "e6029aad",
   "metadata": {},
   "outputs": [
    {
     "data": {
      "image/png": "[encoded data removed]",
      "text/plain": [
       "<Figure size 640x480 with 1 Axes>"
      ]
     },
     "metadata": {},
     "output_type": "display_data"
    }
   ],
   "source": [
    "post_lockdown_histplot = sns.histplot(data=model_states_df, x=\"Post-Lockdown Mean AQI\")"
   ]
  },
  {
   "cell_type": "markdown",
   "id": "c9e93453",
   "metadata": {},
   "source": [
    "The data is roughly normally distributed pre and post lockdown, so we can use a paired t-test.\n",
    "\n",
    "This is a great test to use becaue we have different AQI measurements for the same locations."
   ]
  },
  {
   "cell_type": "code",
   "execution_count": 52,
   "id": "88f59394",
   "metadata": {},
   "outputs": [
    {
     "name": "stdout",
     "output_type": "stream",
     "text": [
      "TtestResult(statistic=-1.9567569575451778, pvalue=0.05575539959267048, df=52)\n"
     ]
    }
   ],
   "source": [
    "import scipy\n",
    "pre = model_states_df[\"Pre-Lockdown Mean AQI\"]\n",
    "post = model_states_df[\"Post-Lockdown Mean AQI\"]\n",
    "print(scipy.stats.ttest_rel(pre, post))"
   ]
  },
  {
   "cell_type": "markdown",
   "id": "8435ff6b",
   "metadata": {},
   "source": [
    "With a p-value of 0.0557, and an α = 0.05, p > α, thus there is not a statistically significant difference in the AQI pre and post-lockdown for each of the individual states."
   ]
  },
  {
   "cell_type": "markdown",
   "id": "2feb2d86",
   "metadata": {},
   "source": [
    "**Section III.ii**"
   ]
  },
  {
   "cell_type": "markdown",
   "id": "ac504f75",
   "metadata": {},
   "source": [
    "Now, we're going to see when the lockdown was first initiated for about the first month:"
   ]
  },
  {
   "cell_type": "code",
   "execution_count": 53,
   "id": "21f279c2",
   "metadata": {},
   "outputs": [
    {
     "data": {
      "text/html": [
       "<div>\n",
       "<style scoped>\n",
       "    .dataframe tbody tr th:only-of-type {\n",
       "        vertical-align: middle;\n",
       "    }\n",
       "\n",
       "    .dataframe tbody tr th {\n",
       "        vertical-align: top;\n",
       "    }\n",
       "\n",
       "    .dataframe thead th {\n",
       "        text-align: right;\n",
       "    }\n",
       "</style>\n",
       "<table border=\"1\" class=\"dataframe\">\n",
       "  <thead>\n",
       "    <tr style=\"text-align: right;\">\n",
       "      <th></th>\n",
       "      <th>State</th>\n",
       "      <th>State Code</th>\n",
       "      <th>Region</th>\n",
       "      <th>Hospitalizations 2020</th>\n",
       "      <th>Hospitalization Rate 2020</th>\n",
       "      <th>Hospitalizations 2021</th>\n",
       "      <th>Hospitalization Rate 2021</th>\n",
       "      <th>2019 Mean AQI per State</th>\n",
       "      <th>2020 Mean AQI per State</th>\n",
       "      <th>2021 Mean AQI per State</th>\n",
       "      <th>2019 Total AQI per State</th>\n",
       "      <th>2020 Total AQI per State</th>\n",
       "      <th>2021 Total AQI per State</th>\n",
       "      <th>2019 Number of Reports per State</th>\n",
       "      <th>2020 Number of Reports per State</th>\n",
       "      <th>2021 Number of Reports per State</th>\n",
       "      <th>Pre-Lockdown Mean AQI</th>\n",
       "      <th>Post-Lockdown Mean AQI</th>\n",
       "      <th>Difference in AQI: Post - Pre Lockdown</th>\n",
       "      <th>Mid-Lockdown Mean AQI</th>\n",
       "    </tr>\n",
       "  </thead>\n",
       "  <tbody>\n",
       "    <tr>\n",
       "      <th>0</th>\n",
       "      <td>Alabama</td>\n",
       "      <td>1.0</td>\n",
       "      <td>South</td>\n",
       "      <td>7708</td>\n",
       "      <td>0.075836</td>\n",
       "      <td>5646</td>\n",
       "      <td>0.075903</td>\n",
       "      <td>40.34</td>\n",
       "      <td>37.39</td>\n",
       "      <td>38.39</td>\n",
       "      <td>199061</td>\n",
       "      <td>162250</td>\n",
       "      <td>111483</td>\n",
       "      <td>4934</td>\n",
       "      <td>4339</td>\n",
       "      <td>2904</td>\n",
       "      <td>39.15</td>\n",
       "      <td>39.10</td>\n",
       "      <td>-0.05</td>\n",
       "      <td>40.38</td>\n",
       "    </tr>\n",
       "    <tr>\n",
       "      <th>1</th>\n",
       "      <td>Alaska</td>\n",
       "      <td>2.0</td>\n",
       "      <td>West</td>\n",
       "      <td>885</td>\n",
       "      <td>0.246587</td>\n",
       "      <td>1279</td>\n",
       "      <td>0.220822</td>\n",
       "      <td>29.31</td>\n",
       "      <td>24.31</td>\n",
       "      <td>30.19</td>\n",
       "      <td>72652</td>\n",
       "      <td>56685</td>\n",
       "      <td>29772</td>\n",
       "      <td>2479</td>\n",
       "      <td>2332</td>\n",
       "      <td>986</td>\n",
       "      <td>29.51</td>\n",
       "      <td>25.61</td>\n",
       "      <td>-3.90</td>\n",
       "      <td>24.62</td>\n",
       "    </tr>\n",
       "    <tr>\n",
       "      <th>2</th>\n",
       "      <td>Arizona</td>\n",
       "      <td>4.0</td>\n",
       "      <td>West</td>\n",
       "      <td>54006</td>\n",
       "      <td>0.187311</td>\n",
       "      <td>37953</td>\n",
       "      <td>0.145523</td>\n",
       "      <td>45.69</td>\n",
       "      <td>51.79</td>\n",
       "      <td>52.07</td>\n",
       "      <td>215999</td>\n",
       "      <td>243761</td>\n",
       "      <td>183928</td>\n",
       "      <td>4727</td>\n",
       "      <td>4707</td>\n",
       "      <td>3532</td>\n",
       "      <td>45.08</td>\n",
       "      <td>53.72</td>\n",
       "      <td>8.64</td>\n",
       "      <td>48.34</td>\n",
       "    </tr>\n",
       "    <tr>\n",
       "      <th>3</th>\n",
       "      <td>Arkansas</td>\n",
       "      <td>5.0</td>\n",
       "      <td>South</td>\n",
       "      <td>9735</td>\n",
       "      <td>0.081084</td>\n",
       "      <td>9072</td>\n",
       "      <td>0.112238</td>\n",
       "      <td>38.53</td>\n",
       "      <td>36.09</td>\n",
       "      <td>40.13</td>\n",
       "      <td>118967</td>\n",
       "      <td>99891</td>\n",
       "      <td>82227</td>\n",
       "      <td>3088</td>\n",
       "      <td>2768</td>\n",
       "      <td>2049</td>\n",
       "      <td>37.50</td>\n",
       "      <td>37.13</td>\n",
       "      <td>-0.37</td>\n",
       "      <td>34.88</td>\n",
       "    </tr>\n",
       "    <tr>\n",
       "      <th>4</th>\n",
       "      <td>California</td>\n",
       "      <td>6.0</td>\n",
       "      <td>West</td>\n",
       "      <td>149121</td>\n",
       "      <td>0.082321</td>\n",
       "      <td>100220</td>\n",
       "      <td>0.074207</td>\n",
       "      <td>49.62</td>\n",
       "      <td>58.12</td>\n",
       "      <td>52.29</td>\n",
       "      <td>945900</td>\n",
       "      <td>1119144</td>\n",
       "      <td>602961</td>\n",
       "      <td>19063</td>\n",
       "      <td>19255</td>\n",
       "      <td>11531</td>\n",
       "      <td>48.94</td>\n",
       "      <td>56.75</td>\n",
       "      <td>7.81</td>\n",
       "      <td>39.33</td>\n",
       "    </tr>\n",
       "  </tbody>\n",
       "</table>\n",
       "</div>"
      ],
      "text/plain": [
       "        State  State Code Region  Hospitalizations 2020  \\\n",
       "0     Alabama         1.0  South                   7708   \n",
       "1      Alaska         2.0   West                    885   \n",
       "2     Arizona         4.0   West                  54006   \n",
       "3    Arkansas         5.0  South                   9735   \n",
       "4  California         6.0   West                 149121   \n",
       "\n",
       "   Hospitalization Rate 2020  Hospitalizations 2021  \\\n",
       "0                   0.075836                   5646   \n",
       "1                   0.246587                   1279   \n",
       "2                   0.187311                  37953   \n",
       "3                   0.081084                   9072   \n",
       "4                   0.082321                 100220   \n",
       "\n",
       "   Hospitalization Rate 2021  2019 Mean AQI per State  \\\n",
       "0                   0.075903                    40.34   \n",
       "1                   0.220822                    29.31   \n",
       "2                   0.145523                    45.69   \n",
       "3                   0.112238                    38.53   \n",
       "4                   0.074207                    49.62   \n",
       "\n",
       "   2020 Mean AQI per State  2021 Mean AQI per State  2019 Total AQI per State  \\\n",
       "0                    37.39                    38.39                    199061   \n",
       "1                    24.31                    30.19                     72652   \n",
       "2                    51.79                    52.07                    215999   \n",
       "3                    36.09                    40.13                    118967   \n",
       "4                    58.12                    52.29                    945900   \n",
       "\n",
       "   2020 Total AQI per State  2021 Total AQI per State  \\\n",
       "0                    162250                    111483   \n",
       "1                     56685                     29772   \n",
       "2                    243761                    183928   \n",
       "3                     99891                     82227   \n",
       "4                   1119144                    602961   \n",
       "\n",
       "   2019 Number of Reports per State  2020 Number of Reports per State  \\\n",
       "0                              4934                              4339   \n",
       "1                              2479                              2332   \n",
       "2                              4727                              4707   \n",
       "3                              3088                              2768   \n",
       "4                             19063                             19255   \n",
       "\n",
       "   2021 Number of Reports per State  Pre-Lockdown Mean AQI  \\\n",
       "0                              2904                  39.15   \n",
       "1                               986                  29.51   \n",
       "2                              3532                  45.08   \n",
       "3                              2049                  37.50   \n",
       "4                             11531                  48.94   \n",
       "\n",
       "   Post-Lockdown Mean AQI  Difference in AQI: Post - Pre Lockdown  \\\n",
       "0                   39.10                                   -0.05   \n",
       "1                   25.61                                   -3.90   \n",
       "2                   53.72                                    8.64   \n",
       "3                   37.13                                   -0.37   \n",
       "4                   56.75                                    7.81   \n",
       "\n",
       "   Mid-Lockdown Mean AQI  \n",
       "0                  40.38  \n",
       "1                  24.62  \n",
       "2                  48.34  \n",
       "3                  34.88  \n",
       "4                  39.33  "
      ]
     },
     "execution_count": 53,
     "metadata": {},
     "output_type": "execute_result"
    }
   ],
   "source": [
    "# covid lockdowns were roughly at least a month long for US states:\n",
    "# https://en.wikipedia.org/wiki/COVID-19_lockdowns\n",
    "\n",
    "mid_lockdown_df = aqi_2020_df.loc[(aqi_2020_df[\"Date\"]>=\"2020-03-13\") & (aqi_2020_df[\"Date\"]<=\"2020-04-13\")]\n",
    "mid_lockdown_mean_aqi = calculate_aqi_stats(mid_lockdown_df)[0]\n",
    "model_states_df[\"Mid-Lockdown Mean AQI\"] = mid_lockdown_mean_aqi\n",
    "model_states_df.head()"
   ]
  },
  {
   "cell_type": "code",
   "execution_count": 54,
   "id": "4759fa45",
   "metadata": {},
   "outputs": [
    {
     "data": {
      "image/png": "[encoded data removed]",
      "text/plain": [
       "<Figure size 640x480 with 1 Axes>"
      ]
     },
     "metadata": {},
     "output_type": "display_data"
    }
   ],
   "source": [
    "mid_lockdown_histplot = sns.histplot(data=model_states_df, x=\"Mid-Lockdown Mean AQI\")\n",
    "plt.show()"
   ]
  },
  {
   "cell_type": "code",
   "execution_count": 55,
   "id": "f5c9ed60",
   "metadata": {},
   "outputs": [
    {
     "name": "stdout",
     "output_type": "stream",
     "text": [
      "TtestResult(statistic=2.1735600286759484, pvalue=0.03431438644295199, df=52)\n"
     ]
    }
   ],
   "source": [
    "pre = model_states_df[\"Pre-Lockdown Mean AQI\"]\n",
    "post = model_states_df[\"Mid-Lockdown Mean AQI\"]\n",
    "print(scipy.stats.ttest_rel(pre, post))"
   ]
  },
  {
   "cell_type": "markdown",
   "id": "d1b4e2f4",
   "metadata": {},
   "source": [
    "This shows that there is a statistically significant difference between the pre-lockdown and mid-lockdown AQI, as p=0.034 < 0.05.\n",
    "\n",
    "From the bar plot below, there seemed to have been the biggest differences in the Non-continental US and the Western states."
   ]
  },
  {
   "cell_type": "code",
   "execution_count": 56,
   "id": "41e3d35b",
   "metadata": {},
   "outputs": [
    {
     "data": {
      "image/png": "[encoded data removed]",
      "text/plain": [
       "<Figure size 640x480 with 1 Axes>"
      ]
     },
     "metadata": {},
     "output_type": "display_data"
    }
   ],
   "source": [
    "model_states_df[\"Difference in AQI: Mid - Pre Lockdown\"] = model_states_df[\"Mid-Lockdown Mean AQI\"] - model_states_df[\"Pre-Lockdown Mean AQI\"]\n",
    "my_plot = sns.barplot(data=model_states_df, y=\"Difference in AQI: Mid - Pre Lockdown\", x=\"Region\")\n",
    "plt.title(\"Difference in AQI Before and After Lockdown per Region\")\n",
    "plt.xticks(rotation=90, fontsize=8)\n",
    "plt.show()"
   ]
  },
  {
   "cell_type": "markdown",
   "id": "93e14516",
   "metadata": {},
   "source": [
    "**Section III.iii:**"
   ]
  },
  {
   "cell_type": "markdown",
   "id": "1b83d2af",
   "metadata": {},
   "source": [
    "**Question 2:**\n",
    "- Is there a correlation between Air Quality Index (AQI) and COVID-19 hospitalization rate?"
   ]
  },
  {
   "cell_type": "code",
   "execution_count": 57,
   "id": "880ba94c",
   "metadata": {},
   "outputs": [
    {
     "data": {
      "text/html": [
       "<div>\n",
       "<style scoped>\n",
       "    .dataframe tbody tr th:only-of-type {\n",
       "        vertical-align: middle;\n",
       "    }\n",
       "\n",
       "    .dataframe tbody tr th {\n",
       "        vertical-align: top;\n",
       "    }\n",
       "\n",
       "    .dataframe thead th {\n",
       "        text-align: right;\n",
       "    }\n",
       "</style>\n",
       "<table border=\"1\" class=\"dataframe\">\n",
       "  <thead>\n",
       "    <tr style=\"text-align: right;\">\n",
       "      <th></th>\n",
       "      <th>State</th>\n",
       "      <th>State Code</th>\n",
       "      <th>Region</th>\n",
       "      <th>Hospitalizations 2020</th>\n",
       "      <th>Hospitalization Rate 2020</th>\n",
       "      <th>Hospitalizations 2021</th>\n",
       "      <th>Hospitalization Rate 2021</th>\n",
       "      <th>2019 Mean AQI per State</th>\n",
       "      <th>2020 Mean AQI per State</th>\n",
       "      <th>2021 Mean AQI per State</th>\n",
       "      <th>...</th>\n",
       "      <th>2020 Total AQI per State</th>\n",
       "      <th>2021 Total AQI per State</th>\n",
       "      <th>2019 Number of Reports per State</th>\n",
       "      <th>2020 Number of Reports per State</th>\n",
       "      <th>2021 Number of Reports per State</th>\n",
       "      <th>Pre-Lockdown Mean AQI</th>\n",
       "      <th>Post-Lockdown Mean AQI</th>\n",
       "      <th>Difference in AQI: Post - Pre Lockdown</th>\n",
       "      <th>Mid-Lockdown Mean AQI</th>\n",
       "      <th>Difference in AQI: Mid - Pre Lockdown</th>\n",
       "    </tr>\n",
       "  </thead>\n",
       "  <tbody>\n",
       "    <tr>\n",
       "      <th>0</th>\n",
       "      <td>Alabama</td>\n",
       "      <td>1.0</td>\n",
       "      <td>South</td>\n",
       "      <td>7708</td>\n",
       "      <td>0.075836</td>\n",
       "      <td>5646</td>\n",
       "      <td>0.075903</td>\n",
       "      <td>40.34</td>\n",
       "      <td>37.39</td>\n",
       "      <td>38.39</td>\n",
       "      <td>...</td>\n",
       "      <td>162250</td>\n",
       "      <td>111483</td>\n",
       "      <td>4934</td>\n",
       "      <td>4339</td>\n",
       "      <td>2904</td>\n",
       "      <td>39.15</td>\n",
       "      <td>39.10</td>\n",
       "      <td>-0.05</td>\n",
       "      <td>40.38</td>\n",
       "      <td>1.23</td>\n",
       "    </tr>\n",
       "    <tr>\n",
       "      <th>1</th>\n",
       "      <td>Alaska</td>\n",
       "      <td>2.0</td>\n",
       "      <td>West</td>\n",
       "      <td>885</td>\n",
       "      <td>0.246587</td>\n",
       "      <td>1279</td>\n",
       "      <td>0.220822</td>\n",
       "      <td>29.31</td>\n",
       "      <td>24.31</td>\n",
       "      <td>30.19</td>\n",
       "      <td>...</td>\n",
       "      <td>56685</td>\n",
       "      <td>29772</td>\n",
       "      <td>2479</td>\n",
       "      <td>2332</td>\n",
       "      <td>986</td>\n",
       "      <td>29.51</td>\n",
       "      <td>25.61</td>\n",
       "      <td>-3.90</td>\n",
       "      <td>24.62</td>\n",
       "      <td>-4.89</td>\n",
       "    </tr>\n",
       "    <tr>\n",
       "      <th>2</th>\n",
       "      <td>Arizona</td>\n",
       "      <td>4.0</td>\n",
       "      <td>West</td>\n",
       "      <td>54006</td>\n",
       "      <td>0.187311</td>\n",
       "      <td>37953</td>\n",
       "      <td>0.145523</td>\n",
       "      <td>45.69</td>\n",
       "      <td>51.79</td>\n",
       "      <td>52.07</td>\n",
       "      <td>...</td>\n",
       "      <td>243761</td>\n",
       "      <td>183928</td>\n",
       "      <td>4727</td>\n",
       "      <td>4707</td>\n",
       "      <td>3532</td>\n",
       "      <td>45.08</td>\n",
       "      <td>53.72</td>\n",
       "      <td>8.64</td>\n",
       "      <td>48.34</td>\n",
       "      <td>3.26</td>\n",
       "    </tr>\n",
       "    <tr>\n",
       "      <th>3</th>\n",
       "      <td>Arkansas</td>\n",
       "      <td>5.0</td>\n",
       "      <td>South</td>\n",
       "      <td>9735</td>\n",
       "      <td>0.081084</td>\n",
       "      <td>9072</td>\n",
       "      <td>0.112238</td>\n",
       "      <td>38.53</td>\n",
       "      <td>36.09</td>\n",
       "      <td>40.13</td>\n",
       "      <td>...</td>\n",
       "      <td>99891</td>\n",
       "      <td>82227</td>\n",
       "      <td>3088</td>\n",
       "      <td>2768</td>\n",
       "      <td>2049</td>\n",
       "      <td>37.50</td>\n",
       "      <td>37.13</td>\n",
       "      <td>-0.37</td>\n",
       "      <td>34.88</td>\n",
       "      <td>-2.62</td>\n",
       "    </tr>\n",
       "    <tr>\n",
       "      <th>4</th>\n",
       "      <td>California</td>\n",
       "      <td>6.0</td>\n",
       "      <td>West</td>\n",
       "      <td>149121</td>\n",
       "      <td>0.082321</td>\n",
       "      <td>100220</td>\n",
       "      <td>0.074207</td>\n",
       "      <td>49.62</td>\n",
       "      <td>58.12</td>\n",
       "      <td>52.29</td>\n",
       "      <td>...</td>\n",
       "      <td>1119144</td>\n",
       "      <td>602961</td>\n",
       "      <td>19063</td>\n",
       "      <td>19255</td>\n",
       "      <td>11531</td>\n",
       "      <td>48.94</td>\n",
       "      <td>56.75</td>\n",
       "      <td>7.81</td>\n",
       "      <td>39.33</td>\n",
       "      <td>-9.61</td>\n",
       "    </tr>\n",
       "  </tbody>\n",
       "</table>\n",
       "<p>5 rows × 21 columns</p>\n",
       "</div>"
      ],
      "text/plain": [
       "        State  State Code Region  Hospitalizations 2020  \\\n",
       "0     Alabama         1.0  South                   7708   \n",
       "1      Alaska         2.0   West                    885   \n",
       "2     Arizona         4.0   West                  54006   \n",
       "3    Arkansas         5.0  South                   9735   \n",
       "4  California         6.0   West                 149121   \n",
       "\n",
       "   Hospitalization Rate 2020  Hospitalizations 2021  \\\n",
       "0                   0.075836                   5646   \n",
       "1                   0.246587                   1279   \n",
       "2                   0.187311                  37953   \n",
       "3                   0.081084                   9072   \n",
       "4                   0.082321                 100220   \n",
       "\n",
       "   Hospitalization Rate 2021  2019 Mean AQI per State  \\\n",
       "0                   0.075903                    40.34   \n",
       "1                   0.220822                    29.31   \n",
       "2                   0.145523                    45.69   \n",
       "3                   0.112238                    38.53   \n",
       "4                   0.074207                    49.62   \n",
       "\n",
       "   2020 Mean AQI per State  2021 Mean AQI per State  ...  \\\n",
       "0                    37.39                    38.39  ...   \n",
       "1                    24.31                    30.19  ...   \n",
       "2                    51.79                    52.07  ...   \n",
       "3                    36.09                    40.13  ...   \n",
       "4                    58.12                    52.29  ...   \n",
       "\n",
       "   2020 Total AQI per State  2021 Total AQI per State  \\\n",
       "0                    162250                    111483   \n",
       "1                     56685                     29772   \n",
       "2                    243761                    183928   \n",
       "3                     99891                     82227   \n",
       "4                   1119144                    602961   \n",
       "\n",
       "   2019 Number of Reports per State  2020 Number of Reports per State  \\\n",
       "0                              4934                              4339   \n",
       "1                              2479                              2332   \n",
       "2                              4727                              4707   \n",
       "3                              3088                              2768   \n",
       "4                             19063                             19255   \n",
       "\n",
       "   2021 Number of Reports per State  Pre-Lockdown Mean AQI  \\\n",
       "0                              2904                  39.15   \n",
       "1                               986                  29.51   \n",
       "2                              3532                  45.08   \n",
       "3                              2049                  37.50   \n",
       "4                             11531                  48.94   \n",
       "\n",
       "   Post-Lockdown Mean AQI  Difference in AQI: Post - Pre Lockdown  \\\n",
       "0                   39.10                                   -0.05   \n",
       "1                   25.61                                   -3.90   \n",
       "2                   53.72                                    8.64   \n",
       "3                   37.13                                   -0.37   \n",
       "4                   56.75                                    7.81   \n",
       "\n",
       "   Mid-Lockdown Mean AQI  Difference in AQI: Mid - Pre Lockdown  \n",
       "0                  40.38                                   1.23  \n",
       "1                  24.62                                  -4.89  \n",
       "2                  48.34                                   3.26  \n",
       "3                  34.88                                  -2.62  \n",
       "4                  39.33                                  -9.61  \n",
       "\n",
       "[5 rows x 21 columns]"
      ]
     },
     "execution_count": 57,
     "metadata": {},
     "output_type": "execute_result"
    }
   ],
   "source": [
    "model_states_df.head()"
   ]
  },
  {
   "cell_type": "markdown",
   "id": "a0d74b57",
   "metadata": {},
   "source": [
    "We can perform a hypothesis test to see if this correlation is statistically significant, assuming there is no correlation. \n",
    "\n",
    "At the same time, we'll calculate our correlation coefficient and plot the data\n",
    "\n",
    "We'll show **\"Hospitalization Rate 2020\" vs. \"2020 Mean AQI per State\"** and **\"Hospitalization Rate 2021\" vs. \"2021 Mean AQI per State\"**:\n",
    "\n",
    "- Null hypothesis: r = 0\n",
    "- Alternative Hypothesis: r ≠ 0"
   ]
  },
  {
   "cell_type": "code",
   "execution_count": 58,
   "id": "88a6ea11",
   "metadata": {},
   "outputs": [
    {
     "name": "stdout",
     "output_type": "stream",
     "text": [
      "Equation of line: y = -0.0018976552825427275x  +  0.23360741463502807\n",
      "Correlation coefficient = -0.059309647853713184\n",
      "p-value: 0.6731297311162754\n"
     ]
    },
    {
     "data": {
      "image/png": "[encoded data removed]",
      "text/plain": [
       "<Figure size 640x480 with 1 Axes>"
      ]
     },
     "metadata": {},
     "output_type": "display_data"
    }
   ],
   "source": [
    "# how to display correlation coefficient: \n",
    "# https://www.statology.org/seaborn-regplot-equation/\n",
    "# https://scales.arabpsychology.com/stats/how-do-i-create-a-seaborn-scatterplot-with-a-correlation-coefficient/\n",
    "\n",
    "hosp_vs_aqi_2020 = sns.regplot(model_states_df, x=\"2020 Mean AQI per State\", y=\"Hospitalization Rate 2020\")\n",
    "hosp_vs_aqi_2020.plot()\n",
    "\n",
    "slope, intercept, r, hosp_vs_aqi_2020, sterr = scipy.stats.linregress(x=hosp_vs_aqi_2020.get_lines()[0].get_xdata(),\n",
    "                                                       y=hosp_vs_aqi_2020.get_lines()[0].get_ydata())\n",
    "\n",
    "r, p = scipy.stats.pearsonr(x=model_states_df[\"2020 Mean AQI per State\"], y=model_states_df[\"Hospitalization Rate 2020\"])\n",
    "print(\"Equation of line: y =\", str(slope) + \"x\", \" + \", intercept)\n",
    "print(\"Correlation coefficient =\", r)\n",
    "print(\"p-value:\", p)"
   ]
  },
  {
   "cell_type": "code",
   "execution_count": 59,
   "id": "cea6f585",
   "metadata": {},
   "outputs": [
    {
     "name": "stdout",
     "output_type": "stream",
     "text": [
      "Equation of line: y = -0.001130063237719106x  +  0.19066906935229377\n",
      "Correlation coefficient = -0.02998267625354849\n",
      "p-value: 0.8312332431866335\n"
     ]
    },
    {
     "data": {
      "image/png": "[encoded data removed]",
      "text/plain": [
       "<Figure size 640x480 with 1 Axes>"
      ]
     },
     "metadata": {},
     "output_type": "display_data"
    }
   ],
   "source": [
    "hosp_vs_aqi_2021 = sns.regplot(model_states_df, x=\"2021 Mean AQI per State\", y=\"Hospitalization Rate 2021\")\n",
    "hosp_vs_aqi_2021.plot()\n",
    "# how to display correlation coefficient: https://www.statology.org/seaborn-regplot-equation/\n",
    "slope, intercept, r_coeff, hosp_vs_aqi_2019, sterr = scipy.stats.linregress(x=hosp_vs_aqi_2021.get_lines()[0].get_xdata(),\n",
    "                                                       y=hosp_vs_aqi_2021.get_lines()[0].get_ydata())\n",
    "\n",
    "r, p = scipy.stats.pearsonr(x=model_states_df[\"2021 Mean AQI per State\"], y=model_states_df[\"Hospitalization Rate 2021\"])\n",
    "print(\"Equation of line: y =\", str(slope) + \"x\", \" + \", intercept)\n",
    "print(\"Correlation coefficient =\", r)\n",
    "print(\"p-value:\", p)"
   ]
  },
  {
   "cell_type": "markdown",
   "id": "5e982d0c",
   "metadata": {},
   "source": [
    "Both of the values are not less than a threshold α = 0.05, as p = 0.673 > 0.05 and p = 0.831 > 0.05.\n",
    "\n",
    "Thus, for both of these regression plots, there is not a statistically significant difference between the null hypothesis and the data. Therefore, we can not conclude that Mean AQI for a given year can explain the hospitalization rate for COVID-19 in a given year."
   ]
  },
  {
   "cell_type": "markdown",
   "id": "e9d471df",
   "metadata": {},
   "source": [
    "**Section III.iv**"
   ]
  },
  {
   "cell_type": "markdown",
   "id": "4dfefed0",
   "metadata": {},
   "source": [
    "Interestingly enough, however, there is enough statistical evidence for **total number of hospitalizations** to be explained by Mean AQI in a given year:\n",
    "\n",
    "- Null hypothesis: r = 0\n",
    "- Alternative Hypothesis: r ≠ 0\n",
    " - α = 0.05"
   ]
  },
  {
   "cell_type": "code",
   "execution_count": 60,
   "id": "99709443",
   "metadata": {},
   "outputs": [
    {
     "name": "stdout",
     "output_type": "stream",
     "text": [
      "Equation of line: y = -0.001130063237719106x  +  0.19066906935229377\n",
      "Correlation coefficient = 0.5133654112701195\n",
      "p-value: 8.458721148781487e-05\n"
     ]
    },
    {
     "data": {
      "image/png": "[encoded data removed]",
      "text/plain": [
       "<Figure size 640x480 with 1 Axes>"
      ]
     },
     "metadata": {},
     "output_type": "display_data"
    }
   ],
   "source": [
    "hosp_vs_aqi_2020 = sns.regplot(model_states_df, x=\"2020 Mean AQI per State\", y=\"Hospitalizations 2020\")\n",
    "hosp_vs_aqi_2020.plot()\n",
    "# how to display correlation coefficient: https://www.statology.org/seaborn-regplot-equation/\n",
    "slope, intercept, r_coeff, hosp_vs_aqi_2019, sterr = scipy.stats.linregress(x=hosp_vs_aqi_2021.get_lines()[0].get_xdata(),\n",
    "                                                       y=hosp_vs_aqi_2021.get_lines()[0].get_ydata())\n",
    "\n",
    "r, p = scipy.stats.pearsonr(x=model_states_df[\"2020 Mean AQI per State\"], y=model_states_df[\"Hospitalizations 2020\"])\n",
    "print(\"Equation of line: y =\", str(slope) + \"x\", \" + \", intercept)\n",
    "print(\"Correlation coefficient =\", r)\n",
    "print(\"p-value:\", p)"
   ]
  },
  {
   "cell_type": "code",
   "execution_count": 61,
   "id": "30fb90e2",
   "metadata": {},
   "outputs": [
    {
     "name": "stdout",
     "output_type": "stream",
     "text": [
      "Equation of line: y = 907.4456202541011x  +  -23017.26699286179\n",
      "Correlation coefficient = 0.3049595813044145\n",
      "p-value: 0.026392705172564108\n"
     ]
    },
    {
     "data": {
      "image/png": "[encoded data removed]",
      "text/plain": [
       "<Figure size 640x480 with 1 Axes>"
      ]
     },
     "metadata": {},
     "output_type": "display_data"
    }
   ],
   "source": [
    "hosp_vs_aqi_2021 = sns.regplot(model_states_df, x=\"2021 Mean AQI per State\", y=\"Hospitalizations 2021\")\n",
    "hosp_vs_aqi_2021.plot()\n",
    "# how to display correlation coefficient: https://www.statology.org/seaborn-regplot-equation/\n",
    "slope, intercept, r_coeff, hosp_vs_aqi_2019, sterr = scipy.stats.linregress(x=hosp_vs_aqi_2021.get_lines()[0].get_xdata(),\n",
    "                                                       y=hosp_vs_aqi_2021.get_lines()[0].get_ydata())\n",
    "\n",
    "r, p = scipy.stats.pearsonr(x=model_states_df[\"2021 Mean AQI per State\"], y=model_states_df[\"Hospitalizations 2021\"])\n",
    "print(\"Equation of line: y =\", str(slope) + \"x\", \" + \", intercept)\n",
    "print(\"Correlation coefficient =\", r)\n",
    "print(\"p-value:\", p)"
   ]
  },
  {
   "cell_type": "markdown",
   "id": "3f2cf19e",
   "metadata": {},
   "source": [
    "Both of these plots show have a p-value < 0.05, thus there is a statistically significant difference between the null hypothesis and the data. Thus, we reject the null hypothesis and say that there is a correlation between the \"Mean AQI per State\" for the years 2020 & 2021 and the number of \"Hospitalizations\" for the years 2020 & 2021, respectively."
   ]
  },
  {
   "cell_type": "markdown",
   "id": "b7544158",
   "metadata": {},
   "source": [
    "## IV: Conclusions ##"
   ]
  },
  {
   "cell_type": "markdown",
   "id": "a8be6d03",
   "metadata": {},
   "source": [
    "There were some statistically significant differences in some of the statistics before and after the lockdown.\n",
    "\n",
    "Hospitalizations were seemed to increase at the same time as the Mean AQI did, but hospitalization rates did not seem to be explained the same way.\n",
    "\n",
    "There was only a temporary decrease in the AQI for each state/region due to the lockdowns. If anybody were to be interested in making long-term changes, I'd imagine they'd have to take a pretty innovative route to do so."
   ]
  }
 ],
 "metadata": {
  "kernelspec": {
   "display_name": "Python 3 (ipykernel)",
   "language": "python",
   "name": "python3"
  },
  "language_info": {
   "codemirror_mode": {
    "name": "ipython",
    "version": 3
   },
   "file_extension": ".py",
   "mimetype": "text/x-python",
   "name": "python",
   "nbconvert_exporter": "python",
   "pygments_lexer": "ipython3",
   "version": "3.11.3"
  }
 },
 "nbformat": 4,
 "nbformat_minor": 5
}
